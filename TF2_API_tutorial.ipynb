{
  "nbformat": 4,
  "nbformat_minor": 0,
  "metadata": {
    "colab": {
      "provenance": [],
      "gpuType": "T4",
      "authorship_tag": "ABX9TyN8f7r7M+b2r6AHmvLiIu5V",
      "include_colab_link": true
    },
    "kernelspec": {
      "name": "python3",
      "display_name": "Python 3"
    },
    "language_info": {
      "name": "python"
    },
    "accelerator": "GPU",
    "gpuClass": "standard"
  },
  "cells": [
    {
      "cell_type": "markdown",
      "metadata": {
        "id": "view-in-github",
        "colab_type": "text"
      },
      "source": [
        "<a href=\"https://colab.research.google.com/github/GrainSack/GrainSack/blob/main/TF2_API_tutorial.ipynb\" target=\"_parent\"><img src=\"https://colab.research.google.com/assets/colab-badge.svg\" alt=\"Open In Colab\"/></a>"
      ]
    },
    {
      "cell_type": "markdown",
      "source": [
        "# Mnist dataset"
      ],
      "metadata": {
        "id": "dVanTtvXA-33"
      }
    },
    {
      "cell_type": "code",
      "execution_count": 25,
      "metadata": {
        "colab": {
          "base_uri": "https://localhost:8080/"
        },
        "id": "6ITU5V_HAl8V",
        "outputId": "13a29026-dc44-421f-d6b2-ccd0822af171"
      },
      "outputs": [
        {
          "output_type": "stream",
          "name": "stdout",
          "text": [
            "60000 10000\n",
            "데이터의 크기는 : (60000, 28, 28, 1) 입니다.\n"
          ]
        }
      ],
      "source": [
        "import tensorflow as tf\n",
        "from tensorflow import keras\n",
        "import numpy as np\n",
        "# 데이터 구성부분\n",
        "mnist = keras.datasets.mnist\n",
        "\n",
        "(x_train, y_train), (x_test, y_test) = mnist.load_data()\n",
        "x_train, x_test = x_train / 255.0, x_test / 255.0\n",
        "\n",
        "x_train = tf.expand_dims(x_train, axis = 3)\n",
        "x_test = tf.expand_dims(x_test, axis = 3)\n",
        "\n",
        "print(len(x_train), len(x_test))\n",
        "print(f\"데이터의 크기는 : {x_train.shape} 입니다.\")"
      ]
    },
    {
      "cell_type": "markdown",
      "source": [
        "## Sequential model"
      ],
      "metadata": {
        "id": "AMXg5jAYBIBo"
      }
    },
    {
      "cell_type": "code",
      "source": [
        "import tensorflow as tf\n",
        "from tensorflow import keras\n",
        "from tensorflow.keras import layers\n",
        "'''\n",
        "Spec:\n",
        "1. 32개의 채널을 가지고, 커널의 크기가 3, activation function이 relu를 갖고 있으며 input_shape은 데이터 크기로 하는 Conv2D 레이어\n",
        "2. 64개의 채널을 가지고, 커널의 크기가 3, activation function이 relu인 Conv2D 레이어\n",
        "3. Flatten 레이어\n",
        "4. 128개의 아웃풋 노드를 가지고, activation function이 relu인 Fully-Connected Layer(Dense)\n",
        "5. 데이터셋의 클래스 개수에 맞는 아웃풋 노드를 가지고, activation function이 softmax인 Fully-Connected Layer(Dense)\n",
        "'''\n",
        "img_input = keras.Input(shape=(28, 28,1))\n",
        "model = keras.Sequential()\n",
        "model.add(keras.layers.Conv2D(32, 3, strides = 1, activation='relu', name = 'layer1'))\n",
        "model.add(keras.layers.Conv2D(64, 3, activation='relu', name = 'layer2'))\n",
        "model.add(keras.layers.Flatten(name = 'Flatten'))\n",
        "model.add(keras.layers.Dense(128, activation = 'relu',name = 'Dense1'))\n",
        "model.add(keras.layers.Dense(10, activation = 'softmax',name = 'Dense2'))\n",
        "\n",
        "#x = x_train\n",
        "y = model(img_input)\n",
        "model.summary()"
      ],
      "metadata": {
        "colab": {
          "base_uri": "https://localhost:8080/"
        },
        "id": "yb32QqTPA9y2",
        "outputId": "2279b801-18b9-44ad-c4ce-9260332fd107"
      },
      "execution_count": 18,
      "outputs": [
        {
          "output_type": "stream",
          "name": "stdout",
          "text": [
            "Model: \"sequential_11\"\n",
            "_________________________________________________________________\n",
            " Layer (type)                Output Shape              Param #   \n",
            "=================================================================\n",
            " layer1 (Conv2D)             (None, 26, 26, 32)        320       \n",
            "                                                                 \n",
            " layer2 (Conv2D)             (None, 24, 24, 64)        18496     \n",
            "                                                                 \n",
            " Flatten (Flatten)           (None, 36864)             0         \n",
            "                                                                 \n",
            " Dense1 (Dense)              (None, 128)               4718720   \n",
            "                                                                 \n",
            " Dense2 (Dense)              (None, 10)                1290      \n",
            "                                                                 \n",
            "=================================================================\n",
            "Total params: 4,738,826\n",
            "Trainable params: 4,738,826\n",
            "Non-trainable params: 0\n",
            "_________________________________________________________________\n"
          ]
        }
      ]
    },
    {
      "cell_type": "code",
      "source": [
        "model.compile(optimizer='adam',\n",
        "              loss='sparse_categorical_crossentropy',\n",
        "              metrics=['accuracy'])\n",
        "\n",
        "model.fit(x_train, y_train, epochs=2)\n",
        "\n",
        "model.evaluate(x_test,  y_test, verbose=2)"
      ],
      "metadata": {
        "colab": {
          "base_uri": "https://localhost:8080/"
        },
        "id": "DLDDG3GBDXJd",
        "outputId": "1f7bea64-ea21-4d0f-eaf0-7df70a50c050"
      },
      "execution_count": 19,
      "outputs": [
        {
          "output_type": "stream",
          "name": "stdout",
          "text": [
            "Epoch 1/2\n",
            "1875/1875 [==============================] - 20s 4ms/step - loss: 0.1063 - accuracy: 0.9676\n",
            "Epoch 2/2\n",
            "1875/1875 [==============================] - 9s 5ms/step - loss: 0.0338 - accuracy: 0.9890\n",
            "313/313 - 1s - loss: 0.0406 - accuracy: 0.9872 - 867ms/epoch - 3ms/step\n"
          ]
        },
        {
          "output_type": "execute_result",
          "data": {
            "text/plain": [
              "[0.04055740311741829, 0.9872000217437744]"
            ]
          },
          "metadata": {},
          "execution_count": 19
        }
      ]
    },
    {
      "cell_type": "code",
      "source": [
        "%reset"
      ],
      "metadata": {
        "colab": {
          "base_uri": "https://localhost:8080/"
        },
        "id": "B7wqsDpbGn-8",
        "outputId": "2046c637-7886-4955-fb61-64c10230d448"
      },
      "execution_count": 20,
      "outputs": [
        {
          "name": "stdout",
          "output_type": "stream",
          "text": [
            "Once deleted, variables cannot be recovered. Proceed (y/[n])? y\n"
          ]
        }
      ]
    },
    {
      "cell_type": "markdown",
      "source": [
        "## Funtional API"
      ],
      "metadata": {
        "id": "Cw9b9HwIKt0a"
      }
    },
    {
      "cell_type": "code",
      "source": [
        "import tensorflow as tf\n",
        "from tensorflow import keras\n",
        "'''\n",
        "inputs = keras.Input(shape=(__원하는 입력값 모양__))\n",
        "x = keras.layers.__넣고싶은 레이어__(관련 파라미터)(input)\n",
        "x = keras.layers.__넣고싶은 레이어__(관련 파라미터)(x)\n",
        "outputs = keras.layers.__넣고싶은 레이어__(관련 파라미터)(x)\n",
        "\n",
        "model = keras.Model(inputs=inputs, outputs=outputs)\n",
        "model.fit(x,y, epochs=10, batch_size=32)\n",
        "'''"
      ],
      "metadata": {
        "colab": {
          "base_uri": "https://localhost:8080/",
          "height": 54
        },
        "id": "XMW8WJl8HHm-",
        "outputId": "07450ce6-fe7e-4b7f-db23-ca0c4f867247"
      },
      "execution_count": 22,
      "outputs": [
        {
          "output_type": "execute_result",
          "data": {
            "text/plain": [
              "'\\ninputs = keras.Input(shape=(__원하는 입력값 모양__))\\nx = keras.layers.__넣고싶은 레이어__(관련 파라미터)(input)\\nx = keras.layers.__넣고싶은 레이어__(관련 파라미터)(x)\\noutputs = keras.layers.__넣고싶은 레이어__(관련 파라미터)(x)\\n\\nmodel = keras.Model(inputs=inputs, outputs=outputs)\\nmodel.fit(x,y, epochs=10, batch_size=32)\\n'"
            ],
            "application/vnd.google.colaboratory.intrinsic+json": {
              "type": "string"
            }
          },
          "metadata": {},
          "execution_count": 22
        }
      ]
    },
    {
      "cell_type": "code",
      "source": [
        "img_input = keras.Input(shape=(28, 28,1))\n",
        "x = keras.layers.Conv2D(32, 3, strides = 1, activation='relu', name = 'layer1')(img_input)\n",
        "x = keras.layers.Conv2D(64, 3, activation='relu', name = 'layer2')(x)\n",
        "x = keras.layers.Flatten(name = 'Flatten')(x)\n",
        "x = keras.layers.Dense(128, activation = 'relu',name = 'Dense1')(x)\n",
        "predictions = keras.layers.Dense(10, activation = 'softmax',name = 'Dense2')(x)\n",
        "\n",
        "model = keras.Model(inputs=img_input, outputs=predictions)\n",
        "model.summary()"
      ],
      "metadata": {
        "colab": {
          "base_uri": "https://localhost:8080/"
        },
        "id": "N6zPsjCcLqGr",
        "outputId": "9dc96593-b8d7-4c2b-8b42-737a43c2391e"
      },
      "execution_count": 23,
      "outputs": [
        {
          "output_type": "stream",
          "name": "stdout",
          "text": [
            "Model: \"model\"\n",
            "_________________________________________________________________\n",
            " Layer (type)                Output Shape              Param #   \n",
            "=================================================================\n",
            " input_12 (InputLayer)       [(None, 28, 28, 1)]       0         \n",
            "                                                                 \n",
            " layer1 (Conv2D)             (None, 26, 26, 32)        320       \n",
            "                                                                 \n",
            " layer2 (Conv2D)             (None, 24, 24, 64)        18496     \n",
            "                                                                 \n",
            " Flatten (Flatten)           (None, 36864)             0         \n",
            "                                                                 \n",
            " Dense1 (Dense)              (None, 128)               4718720   \n",
            "                                                                 \n",
            " Dense2 (Dense)              (None, 10)                1290      \n",
            "                                                                 \n",
            "=================================================================\n",
            "Total params: 4,738,826\n",
            "Trainable params: 4,738,826\n",
            "Non-trainable params: 0\n",
            "_________________________________________________________________\n"
          ]
        }
      ]
    },
    {
      "cell_type": "code",
      "source": [
        "model.compile(optimizer='adam',\n",
        "              loss='sparse_categorical_crossentropy',\n",
        "              metrics=['accuracy'])\n",
        "\n",
        "model.fit(x_train, y_train, epochs=2)\n",
        "\n",
        "model.evaluate(x_test,  y_test, verbose=2)"
      ],
      "metadata": {
        "colab": {
          "base_uri": "https://localhost:8080/"
        },
        "id": "LnpU6QZqMNpz",
        "outputId": "721510ca-1564-496e-f790-68d0d8a71eae"
      },
      "execution_count": 26,
      "outputs": [
        {
          "output_type": "stream",
          "name": "stdout",
          "text": [
            "Epoch 1/2\n",
            "1875/1875 [==============================] - 10s 4ms/step - loss: 0.1054 - accuracy: 0.9681\n",
            "Epoch 2/2\n",
            "1875/1875 [==============================] - 9s 5ms/step - loss: 0.0352 - accuracy: 0.9889\n",
            "313/313 - 1s - loss: 0.0407 - accuracy: 0.9865 - 873ms/epoch - 3ms/step\n"
          ]
        },
        {
          "output_type": "execute_result",
          "data": {
            "text/plain": [
              "[0.040690336376428604, 0.9865000247955322]"
            ]
          },
          "metadata": {},
          "execution_count": 26
        }
      ]
    },
    {
      "cell_type": "code",
      "source": [
        "%reset"
      ],
      "metadata": {
        "colab": {
          "base_uri": "https://localhost:8080/"
        },
        "id": "_ywtUTSHMZXW",
        "outputId": "e9cb1b02-e005-458b-8fc5-24383f9e82af"
      },
      "execution_count": 27,
      "outputs": [
        {
          "name": "stdout",
          "output_type": "stream",
          "text": [
            "Once deleted, variables cannot be recovered. Proceed (y/[n])? y\n"
          ]
        }
      ]
    },
    {
      "cell_type": "markdown",
      "source": [
        "## SubClassing"
      ],
      "metadata": {
        "id": "IKsr6zOPMh0W"
      }
    },
    {
      "cell_type": "code",
      "source": [
        "import tensorflow as tf\n",
        "from tensorflow import keras\n",
        "import numpy as np\n",
        "# 데이터 구성부분\n",
        "cifar100 = keras.datasets.cifar100\n",
        "\n",
        "(x_train, y_train), (x_test, y_test) = cifar100.load_data()\n",
        "x_train, x_test = x_train / 255.0, x_test / 255.0\n",
        "print(len(x_train), len(x_test))"
      ],
      "metadata": {
        "colab": {
          "base_uri": "https://localhost:8080/"
        },
        "id": "5w4mFFV2MkdH",
        "outputId": "b0037c6e-76e2-432f-b65e-868f1ce5c689"
      },
      "execution_count": 41,
      "outputs": [
        {
          "output_type": "stream",
          "name": "stdout",
          "text": [
            "Downloading data from https://www.cs.toronto.edu/~kriz/cifar-100-python.tar.gz\n",
            "169001437/169001437 [==============================] - 9s 0us/step\n",
            "50000 10000\n"
          ]
        }
      ]
    },
    {
      "cell_type": "code",
      "source": [
        "import tensorflow as tf\n",
        "from tensorflow import keras\n",
        "'''\n",
        "class CustomModel(keras.Model):\n",
        "    def __init__(self):\n",
        "        super(CustomModel, self).__init__()\n",
        "        self.__정의하고자 하는 레이어__()\n",
        "        self.__정의하고자 하는 레이어__()\n",
        "        self.__정의하고자 하는 레이어__()\n",
        "    \n",
        "    def call(self, x):\n",
        "        x = self.__정의하고자 하는 레이어__(x)\n",
        "        x = self.__정의하고자 하는 레이어__(x)\n",
        "        x = self.__정의하고자 하는 레이어__(x)\n",
        "        \n",
        "        return x\n",
        "    \n",
        "model = CustomModel()\n",
        "model.fit(x,y, epochs=10, batch_size=32)\n",
        "'''"
      ],
      "metadata": {
        "id": "2F_vljH6MklW"
      },
      "execution_count": null,
      "outputs": []
    },
    {
      "cell_type": "code",
      "source": [
        "# Subclassing을 활용한 Model을 구성해주세요.\n",
        "\n",
        "# 여기에 모델을 구성해주세요\n",
        "\n",
        "class CustomModel_cifar100(keras.Model):\n",
        "    def __init__(self):\n",
        "      super(CustomModel_cifar100, self).__init__()\n",
        "      self.conv1 = tf.keras.layers.Conv2D(kernel_size = (3,3), filters = 16, activation = 'relu')\n",
        "      self.conv2 = tf.keras.layers.Conv2D(kernel_size = (3,3), filters = 32, activation = 'relu')\n",
        "      self.pool = tf.keras.layers.MaxPooling2D((2,2))\n",
        "      self.flatten = tf.keras.layers.Flatten()\n",
        "      self.d1 = tf.keras.layers.Dense(256, activation = 'relu')\n",
        "      self.d2 = tf.keras.layers.Dense(10, activation = 'softmax')\n",
        "\n",
        "    def call(self,x):\n",
        "      x = self.conv1(x)\n",
        "      x = self.pool(x)\n",
        "      x = self.conv2(x)\n",
        "      x = self.pool(x)\n",
        "      x = self.flatten(x)\n",
        "      x = self.d1(x)\n",
        "      return self.d2(x)\n",
        "    \"\"\"\n",
        "    Spec:\n",
        "    0. keras.Model 을 상속받았으며, __init__()와 call() 메서드를 가진 모델 클래스\n",
        "    1. 16개의 채널을 가지고, 커널의 크기가 3, activation function이 relu인 Conv2D 레이어\n",
        "    2. pool_size가 2인 MaxPool 레이어\n",
        "    3. 32개의 채널을 가지고, 커널의 크기가 3, activation function이 relu인 Conv2D 레이어\n",
        "    4. pool_size가 2인 MaxPool 레이어\n",
        "    5. Flatten 레이어\n",
        "    6. 256개의 아웃풋 노드를 가지고, activation function이 relu인 Fully-Connected Layer(Dense)\n",
        "    7. 데이터셋의 클래스 개수에 맞는 아웃풋 노드를 가지고, activation function이 softmax인 Fully-Connected Layer(Dense)\n",
        "    8. call의 입력값이 모델의 Input, call의 리턴값이 모델의 Output\n",
        "    \"\"\"\n",
        "\n",
        "    def summary(self):\n",
        "        x = keras.Input(shape = (32,32,3))\n",
        "        model = keras.Model(inputs=[x], outputs = self.call(x))\n",
        "        return model.summary()\n",
        "\n",
        "model = CustomModel_cifar100()\n",
        "model.summary()"
      ],
      "metadata": {
        "colab": {
          "base_uri": "https://localhost:8080/"
        },
        "id": "fgAFb4zVMko0",
        "outputId": "5281c27c-5187-42bc-94aa-a9d15b53f97b"
      },
      "execution_count": 39,
      "outputs": [
        {
          "output_type": "stream",
          "name": "stdout",
          "text": [
            "Model: \"model_1\"\n",
            "__________________________________________________________________________________________________\n",
            " Layer (type)                   Output Shape         Param #     Connected to                     \n",
            "==================================================================================================\n",
            " input_19 (InputLayer)          [(None, 32, 32, 3)]  0           []                               \n",
            "                                                                                                  \n",
            " conv2d_14 (Conv2D)             (None, 30, 30, 16)   448         ['input_19[0][0]']               \n",
            "                                                                                                  \n",
            " max_pooling2d_7 (MaxPooling2D)  multiple            0           ['conv2d_14[0][0]',              \n",
            "                                                                  'conv2d_15[0][0]']              \n",
            "                                                                                                  \n",
            " conv2d_15 (Conv2D)             (None, 13, 13, 32)   4640        ['max_pooling2d_7[0][0]']        \n",
            "                                                                                                  \n",
            " flatten_7 (Flatten)            (None, 1152)         0           ['max_pooling2d_7[1][0]']        \n",
            "                                                                                                  \n",
            " dense_14 (Dense)               (None, 256)          295168      ['flatten_7[0][0]']              \n",
            "                                                                                                  \n",
            " dense_15 (Dense)               (None, 10)           2570        ['dense_14[0][0]']               \n",
            "                                                                                                  \n",
            "==================================================================================================\n",
            "Total params: 302,826\n",
            "Trainable params: 302,826\n",
            "Non-trainable params: 0\n",
            "__________________________________________________________________________________________________\n"
          ]
        }
      ]
    },
    {
      "cell_type": "code",
      "source": [
        "model.compile(optimizer='adam',\n",
        "              loss='sparse_categorical_crossentropy',\n",
        "              metrics=['accuracy'])\n",
        "\n",
        "model.fit(x_train, y_train, epochs=2)\n",
        "\n",
        "model.evaluate(x_test,  y_test, verbose=2)"
      ],
      "metadata": {
        "colab": {
          "base_uri": "https://localhost:8080/"
        },
        "id": "dGKyqvp1Mkrb",
        "outputId": "e3733835-2ee9-4b31-9f5c-8e8102d6e4dc"
      },
      "execution_count": 42,
      "outputs": [
        {
          "output_type": "stream",
          "name": "stdout",
          "text": [
            "Epoch 1/2\n",
            "1563/1563 [==============================] - 8s 4ms/step - loss: nan - accuracy: 0.0100\n",
            "Epoch 2/2\n",
            "1563/1563 [==============================] - 7s 5ms/step - loss: nan - accuracy: 0.0100\n",
            "313/313 - 1s - loss: nan - accuracy: 0.0100 - 1s/epoch - 4ms/step\n"
          ]
        },
        {
          "output_type": "execute_result",
          "data": {
            "text/plain": [
              "[nan, 0.009999999776482582]"
            ]
          },
          "metadata": {},
          "execution_count": 42
        }
      ]
    },
    {
      "cell_type": "markdown",
      "source": [
        "## Gradient tape\n",
        "중간중간 학습 결과들을 임시로 저장한다(나중에 쓸때가 많을 때가 있음)"
      ],
      "metadata": {
        "id": "mLnW3jUcS6hY"
      }
    },
    {
      "cell_type": "code",
      "source": [
        "import tensorflow as tf\n",
        "from tensorflow import keras\n",
        "\n",
        "# 데이터 구성부분\n",
        "cifar100 = keras.datasets.cifar100\n",
        "\n",
        "(x_train, y_train), (x_test, y_test) = cifar100.load_data()\n",
        "x_train, x_test = x_train / 255.0, x_test / 255.0\n",
        "print(len(x_train), len(x_test))\n",
        "\n",
        "# 모델 구성부분\n",
        "class CustomModel(keras.Model):\n",
        "    def __init__(self):\n",
        "        super().__init__()\n",
        "        self.conv1 = keras.layers.Conv2D(16, 3, activation='relu')\n",
        "        self.maxpool1 = keras.layers.MaxPool2D((2,2))\n",
        "        self.conv2 = keras.layers.Conv2D(32, 3, activation='relu')\n",
        "        self.maxpool2 = keras.layers.MaxPool2D((2,2))\n",
        "        self.flatten = keras.layers.Flatten()\n",
        "        self.fc1 = keras.layers.Dense(256, activation='relu')\n",
        "        self.fc2 = keras.layers.Dense(100, activation='softmax')\n",
        "\n",
        "    def call(self, x):\n",
        "        x = self.conv1(x)\n",
        "        x = self.maxpool1(x)\n",
        "        x = self.conv2(x)\n",
        "        x = self.maxpool2(x)\n",
        "        x = self.flatten(x)\n",
        "        x = self.fc1(x)\n",
        "        x = self.fc2(x)\n",
        "\n",
        "        return x\n",
        "\n",
        "model = CustomModel()"
      ],
      "metadata": {
        "colab": {
          "base_uri": "https://localhost:8080/"
        },
        "id": "bhfdEr67MkuX",
        "outputId": "31048c1d-b2cb-48d8-c137-65200fb2543e"
      },
      "execution_count": 43,
      "outputs": [
        {
          "output_type": "stream",
          "name": "stdout",
          "text": [
            "50000 10000\n"
          ]
        }
      ]
    },
    {
      "cell_type": "code",
      "source": [
        "loss_func = tf.keras.losses.SparseCategoricalCrossentropy()\n",
        "optimizer = tf.keras.optimizers.Adam()\n",
        "\n",
        "# tf.GradientTape()를 활용한 train_step\n",
        "def train_step(features, labels):\n",
        "    with tf.GradientTape() as tape:\n",
        "        predictions = model(features)\n",
        "        loss = loss_func(labels, predictions)\n",
        "        gradients = tape.gradient(loss, model.trainable_variables)\n",
        "    optimizer.apply_gradients(zip(gradients, model.trainable_variables))\n",
        "    return loss"
      ],
      "metadata": {
        "id": "R-eOfVm6TGV8"
      },
      "execution_count": 44,
      "outputs": []
    },
    {
      "cell_type": "code",
      "source": [
        "import numpy as np\n",
        "import time\n",
        "\n",
        "def train_model(batch_size=32):\n",
        "    start = time.time()\n",
        "    for epoch in range(5):\n",
        "        x_batch = []\n",
        "        y_batch = []\n",
        "        for step, (x, y) in enumerate(zip(x_train, y_train)):\n",
        "            x_batch.append(x)\n",
        "            y_batch.append(y)\n",
        "            if step % batch_size == batch_size-1:\n",
        "                loss = train_step(np.array(x_batch, dtype=np.float32), np.array(y_batch, dtype=np.float32))\n",
        "                x_batch = []\n",
        "                y_batch = []\n",
        "        print('Epoch %d: last batch loss = %.4f' % (epoch, float(loss)))\n",
        "    print(\"It took {} seconds\".format(time.time() - start))\n",
        "\n",
        "train_model()"
      ],
      "metadata": {
        "colab": {
          "base_uri": "https://localhost:8080/"
        },
        "id": "TdsoWlEwTHr-",
        "outputId": "284e1355-feb9-4920-cbcb-7b5acf50e04e"
      },
      "execution_count": 45,
      "outputs": [
        {
          "output_type": "stream",
          "name": "stderr",
          "text": [
            "WARNING:tensorflow:5 out of the last 5 calls to <function _BaseOptimizer._update_step_xla at 0x7fe6adfdef80> triggered tf.function retracing. Tracing is expensive and the excessive number of tracings could be due to (1) creating @tf.function repeatedly in a loop, (2) passing tensors with different shapes, (3) passing Python objects instead of tensors. For (1), please define your @tf.function outside of the loop. For (2), @tf.function has reduce_retracing=True option that can avoid unnecessary retracing. For (3), please refer to https://www.tensorflow.org/guide/function#controlling_retracing and https://www.tensorflow.org/api_docs/python/tf/function for  more details.\n",
            "WARNING:tensorflow:6 out of the last 6 calls to <function _BaseOptimizer._update_step_xla at 0x7fe6adfdef80> triggered tf.function retracing. Tracing is expensive and the excessive number of tracings could be due to (1) creating @tf.function repeatedly in a loop, (2) passing tensors with different shapes, (3) passing Python objects instead of tensors. For (1), please define your @tf.function outside of the loop. For (2), @tf.function has reduce_retracing=True option that can avoid unnecessary retracing. For (3), please refer to https://www.tensorflow.org/guide/function#controlling_retracing and https://www.tensorflow.org/api_docs/python/tf/function for  more details.\n"
          ]
        },
        {
          "output_type": "stream",
          "name": "stdout",
          "text": [
            "Epoch 0: last batch loss = 3.0948\n",
            "Epoch 1: last batch loss = 2.6576\n",
            "Epoch 2: last batch loss = 2.3548\n",
            "Epoch 3: last batch loss = 2.2144\n",
            "Epoch 4: last batch loss = 2.0901\n",
            "It took 168.1857259273529 seconds\n"
          ]
        }
      ]
    },
    {
      "cell_type": "code",
      "source": [
        "# evaluation\n",
        "prediction = model.predict(x_test, batch_size=x_test.shape[0], verbose=1)\n",
        "temp = sum(np.squeeze(y_test) == np.argmax(prediction, axis=1))\n",
        "temp/len(y_test)  # Accuracy"
      ],
      "metadata": {
        "colab": {
          "base_uri": "https://localhost:8080/"
        },
        "id": "dOk2aAWFTJGU",
        "outputId": "5625aeba-70c8-4409-f7f6-c728fcf18526"
      },
      "execution_count": 46,
      "outputs": [
        {
          "output_type": "stream",
          "name": "stdout",
          "text": [
            "1/1 [==============================] - 1s 1s/step\n"
          ]
        },
        {
          "output_type": "execute_result",
          "data": {
            "text/plain": [
              "0.3433"
            ]
          },
          "metadata": {},
          "execution_count": 46
        }
      ]
    },
    {
      "cell_type": "code",
      "source": [],
      "metadata": {
        "id": "j9zBHBmdTOX4"
      },
      "execution_count": null,
      "outputs": []
    }
  ]
}