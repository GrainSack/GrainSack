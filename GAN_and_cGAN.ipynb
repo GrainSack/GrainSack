{
  "nbformat": 4,
  "nbformat_minor": 0,
  "metadata": {
    "colab": {
      "provenance": [],
      "gpuType": "T4",
      "authorship_tag": "ABX9TyM46rOd8CPZxmuM72TLtsMt",
      "include_colab_link": true
    },
    "kernelspec": {
      "name": "python3",
      "display_name": "Python 3"
    },
    "language_info": {
      "name": "python"
    },
    "accelerator": "GPU",
    "gpuClass": "standard",
    "widgets": {
      "application/vnd.jupyter.widget-state+json": {
        "9b958354d84d49d888d828ee9216488e": {
          "model_module": "@jupyter-widgets/controls",
          "model_name": "HBoxModel",
          "model_module_version": "1.5.0",
          "state": {
            "_dom_classes": [],
            "_model_module": "@jupyter-widgets/controls",
            "_model_module_version": "1.5.0",
            "_model_name": "HBoxModel",
            "_view_count": null,
            "_view_module": "@jupyter-widgets/controls",
            "_view_module_version": "1.5.0",
            "_view_name": "HBoxView",
            "box_style": "",
            "children": [
              "IPY_MODEL_bd2f295341c446629cc9bd7cc79f522b",
              "IPY_MODEL_d868162fe74e4ffb80caac09bd38b7af",
              "IPY_MODEL_71447dbfeeec4e008e71d02e6e4b43ef"
            ],
            "layout": "IPY_MODEL_3e03eb09650b4342810c5c6c9983809d"
          }
        },
        "bd2f295341c446629cc9bd7cc79f522b": {
          "model_module": "@jupyter-widgets/controls",
          "model_name": "HTMLModel",
          "model_module_version": "1.5.0",
          "state": {
            "_dom_classes": [],
            "_model_module": "@jupyter-widgets/controls",
            "_model_module_version": "1.5.0",
            "_model_name": "HTMLModel",
            "_view_count": null,
            "_view_module": "@jupyter-widgets/controls",
            "_view_module_version": "1.5.0",
            "_view_name": "HTMLView",
            "description": "",
            "description_tooltip": null,
            "layout": "IPY_MODEL_4327536c3e4a47389853b6f183be98fd",
            "placeholder": "​",
            "style": "IPY_MODEL_bc4f949cdaa24ddeabc785a5b9548333",
            "value": "Dl Completed...: 100%"
          }
        },
        "d868162fe74e4ffb80caac09bd38b7af": {
          "model_module": "@jupyter-widgets/controls",
          "model_name": "FloatProgressModel",
          "model_module_version": "1.5.0",
          "state": {
            "_dom_classes": [],
            "_model_module": "@jupyter-widgets/controls",
            "_model_module_version": "1.5.0",
            "_model_name": "FloatProgressModel",
            "_view_count": null,
            "_view_module": "@jupyter-widgets/controls",
            "_view_module_version": "1.5.0",
            "_view_name": "ProgressView",
            "bar_style": "success",
            "description": "",
            "description_tooltip": null,
            "layout": "IPY_MODEL_6a22e0d3eba046279efd3e0a3659d914",
            "max": 5,
            "min": 0,
            "orientation": "horizontal",
            "style": "IPY_MODEL_304d2bf47daa4ecfbea16a9ace6d6c9b",
            "value": 5
          }
        },
        "71447dbfeeec4e008e71d02e6e4b43ef": {
          "model_module": "@jupyter-widgets/controls",
          "model_name": "HTMLModel",
          "model_module_version": "1.5.0",
          "state": {
            "_dom_classes": [],
            "_model_module": "@jupyter-widgets/controls",
            "_model_module_version": "1.5.0",
            "_model_name": "HTMLModel",
            "_view_count": null,
            "_view_module": "@jupyter-widgets/controls",
            "_view_module_version": "1.5.0",
            "_view_name": "HTMLView",
            "description": "",
            "description_tooltip": null,
            "layout": "IPY_MODEL_230a8aa7cfd54b678d10f0c4bb05dc28",
            "placeholder": "​",
            "style": "IPY_MODEL_d53a41d165d04fd496986efae63b620f",
            "value": " 5/5 [00:03&lt;00:00,  1.18 file/s]"
          }
        },
        "3e03eb09650b4342810c5c6c9983809d": {
          "model_module": "@jupyter-widgets/base",
          "model_name": "LayoutModel",
          "model_module_version": "1.2.0",
          "state": {
            "_model_module": "@jupyter-widgets/base",
            "_model_module_version": "1.2.0",
            "_model_name": "LayoutModel",
            "_view_count": null,
            "_view_module": "@jupyter-widgets/base",
            "_view_module_version": "1.2.0",
            "_view_name": "LayoutView",
            "align_content": null,
            "align_items": null,
            "align_self": null,
            "border": null,
            "bottom": null,
            "display": null,
            "flex": null,
            "flex_flow": null,
            "grid_area": null,
            "grid_auto_columns": null,
            "grid_auto_flow": null,
            "grid_auto_rows": null,
            "grid_column": null,
            "grid_gap": null,
            "grid_row": null,
            "grid_template_areas": null,
            "grid_template_columns": null,
            "grid_template_rows": null,
            "height": null,
            "justify_content": null,
            "justify_items": null,
            "left": null,
            "margin": null,
            "max_height": null,
            "max_width": null,
            "min_height": null,
            "min_width": null,
            "object_fit": null,
            "object_position": null,
            "order": null,
            "overflow": null,
            "overflow_x": null,
            "overflow_y": null,
            "padding": null,
            "right": null,
            "top": null,
            "visibility": null,
            "width": null
          }
        },
        "4327536c3e4a47389853b6f183be98fd": {
          "model_module": "@jupyter-widgets/base",
          "model_name": "LayoutModel",
          "model_module_version": "1.2.0",
          "state": {
            "_model_module": "@jupyter-widgets/base",
            "_model_module_version": "1.2.0",
            "_model_name": "LayoutModel",
            "_view_count": null,
            "_view_module": "@jupyter-widgets/base",
            "_view_module_version": "1.2.0",
            "_view_name": "LayoutView",
            "align_content": null,
            "align_items": null,
            "align_self": null,
            "border": null,
            "bottom": null,
            "display": null,
            "flex": null,
            "flex_flow": null,
            "grid_area": null,
            "grid_auto_columns": null,
            "grid_auto_flow": null,
            "grid_auto_rows": null,
            "grid_column": null,
            "grid_gap": null,
            "grid_row": null,
            "grid_template_areas": null,
            "grid_template_columns": null,
            "grid_template_rows": null,
            "height": null,
            "justify_content": null,
            "justify_items": null,
            "left": null,
            "margin": null,
            "max_height": null,
            "max_width": null,
            "min_height": null,
            "min_width": null,
            "object_fit": null,
            "object_position": null,
            "order": null,
            "overflow": null,
            "overflow_x": null,
            "overflow_y": null,
            "padding": null,
            "right": null,
            "top": null,
            "visibility": null,
            "width": null
          }
        },
        "bc4f949cdaa24ddeabc785a5b9548333": {
          "model_module": "@jupyter-widgets/controls",
          "model_name": "DescriptionStyleModel",
          "model_module_version": "1.5.0",
          "state": {
            "_model_module": "@jupyter-widgets/controls",
            "_model_module_version": "1.5.0",
            "_model_name": "DescriptionStyleModel",
            "_view_count": null,
            "_view_module": "@jupyter-widgets/base",
            "_view_module_version": "1.2.0",
            "_view_name": "StyleView",
            "description_width": ""
          }
        },
        "6a22e0d3eba046279efd3e0a3659d914": {
          "model_module": "@jupyter-widgets/base",
          "model_name": "LayoutModel",
          "model_module_version": "1.2.0",
          "state": {
            "_model_module": "@jupyter-widgets/base",
            "_model_module_version": "1.2.0",
            "_model_name": "LayoutModel",
            "_view_count": null,
            "_view_module": "@jupyter-widgets/base",
            "_view_module_version": "1.2.0",
            "_view_name": "LayoutView",
            "align_content": null,
            "align_items": null,
            "align_self": null,
            "border": null,
            "bottom": null,
            "display": null,
            "flex": null,
            "flex_flow": null,
            "grid_area": null,
            "grid_auto_columns": null,
            "grid_auto_flow": null,
            "grid_auto_rows": null,
            "grid_column": null,
            "grid_gap": null,
            "grid_row": null,
            "grid_template_areas": null,
            "grid_template_columns": null,
            "grid_template_rows": null,
            "height": null,
            "justify_content": null,
            "justify_items": null,
            "left": null,
            "margin": null,
            "max_height": null,
            "max_width": null,
            "min_height": null,
            "min_width": null,
            "object_fit": null,
            "object_position": null,
            "order": null,
            "overflow": null,
            "overflow_x": null,
            "overflow_y": null,
            "padding": null,
            "right": null,
            "top": null,
            "visibility": null,
            "width": null
          }
        },
        "304d2bf47daa4ecfbea16a9ace6d6c9b": {
          "model_module": "@jupyter-widgets/controls",
          "model_name": "ProgressStyleModel",
          "model_module_version": "1.5.0",
          "state": {
            "_model_module": "@jupyter-widgets/controls",
            "_model_module_version": "1.5.0",
            "_model_name": "ProgressStyleModel",
            "_view_count": null,
            "_view_module": "@jupyter-widgets/base",
            "_view_module_version": "1.2.0",
            "_view_name": "StyleView",
            "bar_color": null,
            "description_width": ""
          }
        },
        "230a8aa7cfd54b678d10f0c4bb05dc28": {
          "model_module": "@jupyter-widgets/base",
          "model_name": "LayoutModel",
          "model_module_version": "1.2.0",
          "state": {
            "_model_module": "@jupyter-widgets/base",
            "_model_module_version": "1.2.0",
            "_model_name": "LayoutModel",
            "_view_count": null,
            "_view_module": "@jupyter-widgets/base",
            "_view_module_version": "1.2.0",
            "_view_name": "LayoutView",
            "align_content": null,
            "align_items": null,
            "align_self": null,
            "border": null,
            "bottom": null,
            "display": null,
            "flex": null,
            "flex_flow": null,
            "grid_area": null,
            "grid_auto_columns": null,
            "grid_auto_flow": null,
            "grid_auto_rows": null,
            "grid_column": null,
            "grid_gap": null,
            "grid_row": null,
            "grid_template_areas": null,
            "grid_template_columns": null,
            "grid_template_rows": null,
            "height": null,
            "justify_content": null,
            "justify_items": null,
            "left": null,
            "margin": null,
            "max_height": null,
            "max_width": null,
            "min_height": null,
            "min_width": null,
            "object_fit": null,
            "object_position": null,
            "order": null,
            "overflow": null,
            "overflow_x": null,
            "overflow_y": null,
            "padding": null,
            "right": null,
            "top": null,
            "visibility": null,
            "width": null
          }
        },
        "d53a41d165d04fd496986efae63b620f": {
          "model_module": "@jupyter-widgets/controls",
          "model_name": "DescriptionStyleModel",
          "model_module_version": "1.5.0",
          "state": {
            "_model_module": "@jupyter-widgets/controls",
            "_model_module_version": "1.5.0",
            "_model_name": "DescriptionStyleModel",
            "_view_count": null,
            "_view_module": "@jupyter-widgets/base",
            "_view_module_version": "1.2.0",
            "_view_name": "StyleView",
            "description_width": ""
          }
        }
      }
    }
  },
  "cells": [
    {
      "cell_type": "markdown",
      "metadata": {
        "id": "view-in-github",
        "colab_type": "text"
      },
      "source": [
        "<a href=\"https://colab.research.google.com/github/GrainSack/GrainSack/blob/main/GAN_and_cGAN.ipynb\" target=\"_parent\"><img src=\"https://colab.research.google.com/assets/colab-badge.svg\" alt=\"Open In Colab\"/></a>"
      ]
    },
    {
      "cell_type": "code",
      "execution_count": 1,
      "metadata": {
        "colab": {
          "base_uri": "https://localhost:8080/"
        },
        "id": "yCWbtX-GSAEa",
        "outputId": "94cb12d5-ca1a-4084-df50-cac27b2675a7"
      },
      "outputs": [
        {
          "output_type": "stream",
          "name": "stdout",
          "text": [
            "/bin/bash: nvidia-smi: command not found\n"
          ]
        }
      ],
      "source": [
        "gpu_info = !nvidia-smi\n",
        "gpu_info = '\\n'.join(gpu_info)\n",
        "if gpu_info.find('failed') >= 0:\n",
        "  print('Select the Runtime > \"Change runtime type\" menu to enable a GPU accelerator, ')\n",
        "  print('and then re-execute this cell.')\n",
        "else:\n",
        "  print(gpu_info)"
      ]
    },
    {
      "cell_type": "code",
      "source": [
        "from google.colab import drive\n",
        "drive.mount('/content/drive')"
      ],
      "metadata": {
        "colab": {
          "base_uri": "https://localhost:8080/"
        },
        "id": "0uB39wMFSC6s",
        "outputId": "2f5d8a26-3810-41a3-98e9-7e832807b3e1"
      },
      "execution_count": 22,
      "outputs": [
        {
          "output_type": "stream",
          "name": "stdout",
          "text": [
            "Mounted at /content/drive\n"
          ]
        }
      ]
    },
    {
      "cell_type": "code",
      "source": [
        "import tensorflow_datasets as tfds\n",
        "\n",
        "mnist, info =  tfds.load(\n",
        "    \"mnist\", split=\"train\", with_info=True\n",
        ")\n",
        "\n",
        "fig = tfds.show_examples(mnist, info)"
      ],
      "metadata": {
        "colab": {
          "base_uri": "https://localhost:8080/",
          "height": 818,
          "referenced_widgets": [
            "9b958354d84d49d888d828ee9216488e",
            "bd2f295341c446629cc9bd7cc79f522b",
            "d868162fe74e4ffb80caac09bd38b7af",
            "71447dbfeeec4e008e71d02e6e4b43ef",
            "3e03eb09650b4342810c5c6c9983809d",
            "4327536c3e4a47389853b6f183be98fd",
            "bc4f949cdaa24ddeabc785a5b9548333",
            "6a22e0d3eba046279efd3e0a3659d914",
            "304d2bf47daa4ecfbea16a9ace6d6c9b",
            "230a8aa7cfd54b678d10f0c4bb05dc28",
            "d53a41d165d04fd496986efae63b620f"
          ]
        },
        "id": "f2TSf-LLSHh6",
        "outputId": "a31343da-2e4c-48ba-e8a1-3fbfdfeea830"
      },
      "execution_count": 1,
      "outputs": [
        {
          "output_type": "stream",
          "name": "stdout",
          "text": [
            "Downloading and preparing dataset 11.06 MiB (download: 11.06 MiB, generated: 21.00 MiB, total: 32.06 MiB) to /root/tensorflow_datasets/mnist/3.0.1...\n"
          ]
        },
        {
          "output_type": "display_data",
          "data": {
            "text/plain": [
              "Dl Completed...:   0%|          | 0/5 [00:00<?, ? file/s]"
            ],
            "application/vnd.jupyter.widget-view+json": {
              "version_major": 2,
              "version_minor": 0,
              "model_id": "9b958354d84d49d888d828ee9216488e"
            }
          },
          "metadata": {}
        },
        {
          "output_type": "stream",
          "name": "stdout",
          "text": [
            "Dataset mnist downloaded and prepared to /root/tensorflow_datasets/mnist/3.0.1. Subsequent calls will reuse this data.\n"
          ]
        },
        {
          "output_type": "display_data",
          "data": {
            "text/plain": [
              "<Figure size 900x900 with 9 Axes>"
            ],
            "image/png": "[encoded data removed]"
          },
          "metadata": {}
        }
      ]
    },
    {
      "cell_type": "code",
      "source": [
        "import tensorflow as tf\n",
        "\n",
        "BATCH_SIZE = 128\n",
        "\n",
        "def gan_preprocessing(data):\n",
        "    image = data[\"image\"]\n",
        "    image = tf.cast(image, tf.float32)\n",
        "    image = (image / 127.5) - 1\n",
        "    return image\n",
        "\n",
        "def cgan_preprocessing(data):\n",
        "    image = data[\"image\"]\n",
        "    image = tf.cast(image, tf.float32)\n",
        "    image = (image / 127.5) - 1\n",
        "    \n",
        "    label = tf.one_hot(data[\"label\"], 10)\n",
        "    return image, label\n",
        "\n",
        "gan_datasets = mnist.map(gan_preprocessing).shuffle(1000).batch(BATCH_SIZE)\n",
        "cgan_datasets = mnist.map(cgan_preprocessing).shuffle(100).batch(BATCH_SIZE)"
      ],
      "metadata": {
        "id": "uvW3m1Fth2CT"
      },
      "execution_count": 2,
      "outputs": []
    },
    {
      "cell_type": "code",
      "source": [
        "import matplotlib.pyplot as plt\n",
        "\n",
        "for i,j in cgan_datasets : break\n",
        "\n",
        "# 이미지 i와 라벨 j가 일치하는지 확인해 봅니다.     \n",
        "print(\"Label :\", j[0])\n",
        "print(\"Image Min/Max :\", i.numpy().min(), i.numpy().max())\n",
        "plt.imshow(i.numpy()[0,...,0], plt.cm.gray)"
      ],
      "metadata": {
        "colab": {
          "base_uri": "https://localhost:8080/",
          "height": 485
        },
        "id": "3XquvblEh2ei",
        "outputId": "8cc05f74-4d09-4b19-e1ed-24c4e48c3e4d"
      },
      "execution_count": 3,
      "outputs": [
        {
          "output_type": "stream",
          "name": "stdout",
          "text": [
            "Label : tf.Tensor([0. 0. 0. 1. 0. 0. 0. 0. 0. 0.], shape=(10,), dtype=float32)\n",
            "Image Min/Max : -1.0 1.0\n"
          ]
        },
        {
          "output_type": "execute_result",
          "data": {
            "text/plain": [
              "<matplotlib.image.AxesImage at 0x7f72f0427370>"
            ]
          },
          "metadata": {},
          "execution_count": 3
        },
        {
          "output_type": "display_data",
          "data": {
            "text/plain": [
              "<Figure size 640x480 with 1 Axes>"
            ],
            "image/png": "[encoded data removed]"
          },
          "metadata": {}
        }
      ]
    },
    {
      "cell_type": "markdown",
      "source": [
        "###GAN CGAN"
      ],
      "metadata": {
        "id": "16hHfo3qh7nU"
      }
    },
    {
      "cell_type": "code",
      "source": [
        "from tensorflow.keras import layers, Input, Model\n",
        "\n",
        "class GeneratorGAN(Model):\n",
        "    def __init__(self):\n",
        "        super(GeneratorGAN, self).__init__()\n",
        "\n",
        "        self.dense_1 = layers.Dense(units=128, activation='relu')\n",
        "        self.dense_2 = layers.Dense(units=256, activation='relu')\n",
        "        self.dense_3 = layers.Dense(units=512, activation='relu')\n",
        "        self.dense_4 = layers.Dense(units=28 * 28 * 1, activation='tanh')\n",
        "        self.reshape = layers.Reshape((28, 28, 1))\n",
        "\n",
        "    def call(self, noise):\n",
        "        out = self.dense_1(noise)\n",
        "        out = self.dense_2(out)\n",
        "        out = self.dense_3(out)\n",
        "        out = self.dense_4(out)\n",
        "        return self.reshape(out)\n",
        "\n",
        "class GeneratorCGAN(Model):\n",
        "    def __init__(self):\n",
        "        super(GeneratorCGAN, self).__init__()\n",
        "        \n",
        "        self.dense_z = layers.Dense(256, activation='relu')\n",
        "\n",
        "        self.dense_y = layers.Dense(256, activation='relu')\n",
        "\n",
        "        self.combined_dense = layers.Dense(512, activation='relu')\n",
        "\n",
        "        self.final_dense = layers.Dense(28 * 28 * 1, activation='tanh')\n",
        "\n",
        "        self.reshape = layers.Reshape((28, 28, 1))\n",
        "\n",
        "    def call(self, noise, label):\n",
        "        # 노이즈에 Dense layer를 적용시킵니다.\n",
        "        noise = self.dense_z(noise)\n",
        "         # 라벨에 Dense layer를 적용시킵니다.\n",
        "        label = self.dense_y(label)\n",
        "        # 노이즈와 라벨을 pair가 되게 합친 다음 combined_dense를 적용시킵니다.\n",
        "        out = self.combined_dense(tf.concat([noise, label], axis=-1))\n",
        "        # 마지막 Dense Layer를 적용시킵니다.\n",
        "        out = self.final_dense(out)\n",
        "        return self.reshape(out)\n",
        "\n",
        "class DiscriminatorGAN(Model):\n",
        "    def __init__(self):\n",
        "        super(DiscriminatorGAN, self).__init__()\n",
        "        self.flatten = layers.Flatten()\n",
        "        \n",
        "        #해당 방식은 반복문을 활용해 layer를 쌓기 때문에 좋은 테크닉중 하나입니다,.\n",
        "        self.blocks = []\n",
        "        for f in [512, 256, 128, 1]:\n",
        "            self.blocks.append(\n",
        "                layers.Dense(f, activation=None if f==1 else \"relu\")\n",
        "            )\n",
        "        \n",
        "    def call(self, x):\n",
        "        x = self.flatten(x)\n",
        "        for block in self.blocks:\n",
        "            x = block(x)\n",
        "        return x\n",
        "class Maxout(layers.Layer):\n",
        "    def __init__(self, units, pieces):\n",
        "        super(Maxout, self).__init__()\n",
        "        self.dense = layers.Dense(units*pieces, activation=\"relu\")\n",
        "        self.dropout = layers.Dropout(.5)    \n",
        "        self.reshape = layers.Reshape((-1, pieces, units))\n",
        "    \n",
        "    def call(self, x):\n",
        "        x = self.dense(x)\n",
        "        x = self.dropout(x)\n",
        "        x = self.reshape(x)\n",
        "        return tf.math.reduce_max(x, axis=2)\n",
        "\n",
        "class DiscriminatorCGAN(Model):\n",
        "    def __init__(self):\n",
        "        super(DiscriminatorCGAN, self).__init__()\n",
        "        self.flatten = layers.Flatten()\n",
        "        \n",
        "        self.image_block = Maxout(240, 5)\n",
        "\n",
        "        self.label_block = Maxout(50, 5)\n",
        "\n",
        "        self.combine_block = Maxout(240, 4)\n",
        "\n",
        "        self.dense = layers.Dense(1, activation=None)\n",
        "    \n",
        "    def call(self, image, label):\n",
        "        image = self.flatten(image)\n",
        "\n",
        "        image = self.image_block(image)\n",
        "\n",
        "        label = self.label_block(label)\n",
        "\n",
        "        x = layers.Concatenate()([image, label])\n",
        "\n",
        "        x = self.combine_block(x)\n",
        "\n",
        "        return self.dense(x)\n"
      ],
      "metadata": {
        "id": "C7ZHsVJVh5mD"
      },
      "execution_count": 18,
      "outputs": []
    },
    {
      "cell_type": "code",
      "source": [
        "from tensorflow.keras import optimizers, losses\n",
        "\n",
        "bce = losses.BinaryCrossentropy(from_logits=True)\n",
        "\n",
        "def generator_loss(fake_output):\n",
        "    return bce(tf.ones_like(fake_output), fake_output)\n",
        "\n",
        "def discriminator_loss(real_output, fake_output):\n",
        "    return bce(tf.ones_like(real_output), real_output) + bce(tf.zeros_like(fake_output), fake_output)\n",
        "\n",
        "gene_opt = optimizers.Adam(1e-4)\n",
        "disc_opt = optimizers.Adam(1e-4) \n",
        "\n",
        "gan_generator = GeneratorGAN()\n",
        "gan_discriminator = DiscriminatorGAN()\n",
        "\n",
        "@tf.function()\n",
        "def gan_step(real_images):\n",
        "    noise = tf.random.normal([real_images.shape[0], 100])\n",
        "    \n",
        "    with tf.GradientTape(persistent=True) as tape:\n",
        "        # Generator를 이용해 가짜 이미지 생성\n",
        "        fake_images = gan_generator(noise)\n",
        "        # Discriminator를 이용해 진짜 및 가짜이미지를 각각 판별\n",
        "        real_out = gan_discriminator(real_images)\n",
        "        fake_out = gan_discriminator(fake_images)\n",
        "        # 각 손실(loss)을 계산\n",
        "        gene_loss = generator_loss(fake_out)\n",
        "        disc_loss = discriminator_loss(real_out, fake_out)\n",
        "    # gradient 계산\n",
        "    gene_grad = tape.gradient(gene_loss, gan_generator.trainable_variables)\n",
        "    disc_grad = tape.gradient(disc_loss, gan_discriminator.trainable_variables)\n",
        "    # 모델 학습\n",
        "    gene_opt.apply_gradients(zip(gene_grad, gan_generator.trainable_variables))\n",
        "    disc_opt.apply_gradients(zip(disc_grad, gan_discriminator.trainable_variables))\n",
        "    return gene_loss, disc_loss\n"
      ],
      "metadata": {
        "id": "EyEU6M4ciVhe"
      },
      "execution_count": 19,
      "outputs": []
    },
    {
      "cell_type": "code",
      "source": [
        "EPOCHS = 10\n",
        "for epoch in range(1, EPOCHS+1):\n",
        "    for i, images in enumerate(gan_datasets):\n",
        "        gene_loss, disc_loss = gan_step(images)\n",
        "\n",
        "        if (i+1) % 100 == 0:\n",
        "            print(f\"[{epoch}/{EPOCHS} EPOCHS, {i+1} ITER] G:{gene_loss}, D:{disc_loss}\")"
      ],
      "metadata": {
        "colab": {
          "base_uri": "https://localhost:8080/"
        },
        "id": "anUZIU8niaCE",
        "outputId": "76def00f-101d-4eb5-8568-ad5c838bdaa1"
      },
      "execution_count": 20,
      "outputs": [
        {
          "output_type": "stream",
          "name": "stdout",
          "text": [
            "[1/10 EPOCHS, 100 ITER] G:2.11899733543396, D:0.15275318920612335\n",
            "[1/10 EPOCHS, 200 ITER] G:2.389035701751709, D:0.1229172945022583\n",
            "[1/10 EPOCHS, 300 ITER] G:2.345040798187256, D:0.1859406679868698\n",
            "[1/10 EPOCHS, 400 ITER] G:2.9392950534820557, D:0.1847270280122757\n",
            "[2/10 EPOCHS, 100 ITER] G:4.870016574859619, D:0.04710102453827858\n",
            "[2/10 EPOCHS, 200 ITER] G:3.101442813873291, D:0.3394419848918915\n",
            "[2/10 EPOCHS, 300 ITER] G:2.416492223739624, D:0.5879616737365723\n",
            "[2/10 EPOCHS, 400 ITER] G:4.643176555633545, D:0.08040449023246765\n",
            "[3/10 EPOCHS, 100 ITER] G:2.84106183052063, D:0.22176241874694824\n",
            "[3/10 EPOCHS, 200 ITER] G:3.3866727352142334, D:0.20894253253936768\n",
            "[3/10 EPOCHS, 300 ITER] G:2.4287900924682617, D:0.25842785835266113\n",
            "[3/10 EPOCHS, 400 ITER] G:4.04249906539917, D:0.056673843413591385\n",
            "[4/10 EPOCHS, 100 ITER] G:2.7475290298461914, D:0.20017334818840027\n",
            "[4/10 EPOCHS, 200 ITER] G:2.519869804382324, D:0.1336156576871872\n",
            "[4/10 EPOCHS, 300 ITER] G:4.506810188293457, D:0.0637313723564148\n",
            "[4/10 EPOCHS, 400 ITER] G:3.205022096633911, D:0.15091347694396973\n",
            "[5/10 EPOCHS, 100 ITER] G:3.2485909461975098, D:0.09392448514699936\n",
            "[5/10 EPOCHS, 200 ITER] G:2.96488881111145, D:0.1669248640537262\n",
            "[5/10 EPOCHS, 300 ITER] G:3.097508668899536, D:0.10104674100875854\n",
            "[5/10 EPOCHS, 400 ITER] G:4.468504428863525, D:0.16238269209861755\n",
            "[6/10 EPOCHS, 100 ITER] G:4.662454128265381, D:0.1965516060590744\n",
            "[6/10 EPOCHS, 200 ITER] G:4.649554252624512, D:0.05237510800361633\n",
            "[6/10 EPOCHS, 300 ITER] G:4.470085144042969, D:0.05202113091945648\n",
            "[6/10 EPOCHS, 400 ITER] G:4.404343128204346, D:0.09552549570798874\n",
            "[7/10 EPOCHS, 100 ITER] G:3.1454288959503174, D:0.14040014147758484\n",
            "[7/10 EPOCHS, 200 ITER] G:4.60125732421875, D:0.020425250753760338\n",
            "[7/10 EPOCHS, 300 ITER] G:4.489668369293213, D:0.0417531356215477\n",
            "[7/10 EPOCHS, 400 ITER] G:2.9777274131774902, D:0.18460983037948608\n",
            "[8/10 EPOCHS, 100 ITER] G:4.440303802490234, D:0.0734269991517067\n",
            "[8/10 EPOCHS, 200 ITER] G:6.155661582946777, D:0.008648782968521118\n",
            "[8/10 EPOCHS, 300 ITER] G:3.375899314880371, D:0.08278222382068634\n",
            "[8/10 EPOCHS, 400 ITER] G:3.3974695205688477, D:0.11103556305170059\n",
            "[9/10 EPOCHS, 100 ITER] G:5.378425121307373, D:0.14188344776630402\n",
            "[9/10 EPOCHS, 200 ITER] G:4.651620864868164, D:0.02704528346657753\n",
            "[9/10 EPOCHS, 300 ITER] G:7.46474027633667, D:0.17655843496322632\n",
            "[9/10 EPOCHS, 400 ITER] G:4.387933254241943, D:0.10365504771471024\n",
            "[10/10 EPOCHS, 100 ITER] G:7.651096343994141, D:0.055402979254722595\n",
            "[10/10 EPOCHS, 200 ITER] G:4.749907970428467, D:0.042387593537569046\n",
            "[10/10 EPOCHS, 300 ITER] G:5.75543212890625, D:0.1262311339378357\n",
            "[10/10 EPOCHS, 400 ITER] G:3.9654247760772705, D:0.027236109599471092\n"
          ]
        }
      ]
    },
    {
      "cell_type": "code",
      "source": [
        "import numpy as np\n",
        "\n",
        "noise = tf.random.normal([10, 100])\n",
        "\n",
        "output = gan_generator(noise)\n",
        "output = np.squeeze(output.numpy())\n",
        "\n",
        "plt.figure(figsize=(15,6))\n",
        "for i in range(1, 11):\n",
        "    plt.subplot(2,5,i)\n",
        "    plt.imshow(output[i-1])"
      ],
      "metadata": {
        "colab": {
          "base_uri": "https://localhost:8080/",
          "height": 515
        },
        "id": "gXb0-G3riezB",
        "outputId": "ed1f64a6-292e-495b-9274-2cf6a2545ae6"
      },
      "execution_count": 21,
      "outputs": [
        {
          "output_type": "display_data",
          "data": {
            "text/plain": [
              "<Figure size 1500x600 with 10 Axes>"
            ],
            "image/png": "[encoded data removed]"
          },
          "metadata": {}
        }
      ]
    },
    {
      "cell_type": "code",
      "source": [
        "import os\n",
        "weight_path = '/content/drive/MyDrive/AIFFEL/Gan/GAN_500'\n",
        "\n",
        "noise = tf.random.normal([10, 100]) \n",
        "\n",
        "gan_generator = GeneratorGAN()\n",
        "gan_generator.load_weights(weight_path)\n",
        "\n",
        "output = gan_generator(noise)\n",
        "output = np.squeeze(output.numpy())\n",
        "\n",
        "plt.figure(figsize=(15, 6))\n",
        "for i in range(1, 11):\n",
        "    plt.subplot(2, 5, i)\n",
        "    plt.imshow(output[i - 1], cmap='gray')\n",
        "    plt.axis('off')\n",
        "\n",
        "plt.show()"
      ],
      "metadata": {
        "colab": {
          "base_uri": "https://localhost:8080/",
          "height": 489
        },
        "id": "TC2bW3myqssR",
        "outputId": "14255400-c9d2-4706-ff3a-037cfb438a6c"
      },
      "execution_count": 23,
      "outputs": [
        {
          "output_type": "display_data",
          "data": {
            "text/plain": [
              "<Figure size 1500x600 with 10 Axes>"
            ],
            "image/png": "[encoded data removed]"
          },
          "metadata": {}
        }
      ]
    },
    {
      "cell_type": "code",
      "source": [
        "gene_opt = tf.keras.optimizers.legacy.Adam(1e-4)\n",
        "disc_opt = tf.keras.optimizers.legacy.Adam(1e-4)\n",
        "\n",
        "@tf.function()\n",
        "def cgan_step(real_images, labels):\n",
        "    noise = tf.random.normal([real_images.shape[0], 100])\n",
        "    \n",
        "    with tf.GradientTape(persistent=True) as tape:\n",
        "        fake_images = cgan_generator(noise, labels)\n",
        "        \n",
        "        real_out = cgan_discriminator(real_images, labels)\n",
        "        fake_out = cgan_discriminator(fake_images, labels)\n",
        "        \n",
        "        gene_loss = generator_loss(fake_out)\n",
        "        disc_loss = discriminator_loss(real_out, fake_out)\n",
        "    \n",
        "    gene_grad = tape.gradient(gene_loss, cgan_generator.trainable_variables)\n",
        "    disc_grad = tape.gradient(disc_loss, cgan_discriminator.trainable_variables)\n",
        "    \n",
        "    gene_opt.apply_gradients(zip(gene_grad, cgan_generator.trainable_variables))\n",
        "    disc_opt.apply_gradients(zip(disc_grad, cgan_discriminator.trainable_variables))\n",
        "    return gene_loss, disc_loss\n",
        "\n",
        "\n",
        "EPOCHS = 1\n",
        "for epoch in range(1, EPOCHS+1):\n",
        "    for i, (images, labels) in enumerate(cgan_datasets):\n",
        "        gene_loss, disc_loss = cgan_step(images, labels)\n",
        "        \n",
        "        if (i+1) % 100 == 0:\n",
        "            print(f\"[{epoch}/{EPOCHS} EPOCHS, {i} ITER] G:{gene_loss}, D:{disc_loss}\")"
      ],
      "metadata": {
        "colab": {
          "base_uri": "https://localhost:8080/"
        },
        "id": "CUMGMXxvrw7w",
        "outputId": "a034dd03-1216-44b7-c9c4-31c81541b6b4"
      },
      "execution_count": 27,
      "outputs": [
        {
          "output_type": "stream",
          "name": "stdout",
          "text": [
            "[1/1 EPOCHS, 99 ITER] G:2.3966288566589355, D:0.15654994547367096\n",
            "[1/1 EPOCHS, 199 ITER] G:2.8088769912719727, D:0.10525874048471451\n",
            "[1/1 EPOCHS, 299 ITER] G:3.3226499557495117, D:0.07933665812015533\n",
            "[1/1 EPOCHS, 399 ITER] G:4.504637718200684, D:0.027795638889074326\n"
          ]
        }
      ]
    },
    {
      "cell_type": "code",
      "source": [
        "number = 3\n",
        "\n",
        "weight_path = '/content/drive/MyDrive/AIFFEL/Gan/CGAN/CGAN_500'\n",
        "\n",
        "noise = tf.random.normal([10, 100])\n",
        "\n",
        "label = tf.one_hot(number, 10)\n",
        "label = tf.expand_dims(label, axis=0)\n",
        "label = tf.repeat(label, 10, axis=0)\n",
        "\n",
        "generator = GeneratorCGAN()\n",
        "\n",
        "# Call the model once to create its variables\n",
        "generator(tf.random.normal([1, 100]), tf.random.normal([1, 10]))\n",
        "\n",
        "generator.load_weights(weight_path)\n",
        "\n",
        "output = generator(noise, label)\n",
        "output = np.squeeze(output.numpy())\n",
        "\n",
        "plt.figure(figsize=(15, 6))\n",
        "for i in range(1, 11):\n",
        "    plt.subplot(2, 5, i)\n",
        "    plt.imshow(output[i - 1])\n",
        "    plt.imshow(output[i-1])"
      ],
      "metadata": {
        "colab": {
          "base_uri": "https://localhost:8080/",
          "height": 515
        },
        "id": "-pZX4HP7sTiH",
        "outputId": "ae65db43-3042-420b-f98f-335fb81ec163"
      },
      "execution_count": 30,
      "outputs": [
        {
          "output_type": "display_data",
          "data": {
            "text/plain": [
              "<Figure size 1500x600 with 10 Axes>"
            ],
            "image/png": "[encoded data removed]"
          },
          "metadata": {}
        }
      ]
    },
    {
      "cell_type": "markdown",
      "source": [
        "## Pix2Pix"
      ],
      "metadata": {
        "id": "OD1M75-Ot-D4"
      }
    },
    {
      "cell_type": "markdown",
      "source": [
        "## Data loader"
      ],
      "metadata": {
        "id": "VMINwH1O3t3b"
      }
    },
    {
      "cell_type": "code",
      "source": [
        "import os\n",
        "\n",
        "data_path = os.getenv('HOME')+'/aiffel/conditional_generation/data/pokemon_pix2pix_dataset/train/'\n",
        "print(\"number of train examples :\", len(os.listdir(data_path)))"
      ],
      "metadata": {
        "id": "c4ff7zQl3w-W"
      },
      "execution_count": null,
      "outputs": []
    },
    {
      "cell_type": "code",
      "source": [
        "import cv2\n",
        "import numpy as np\n",
        "import matplotlib.pyplot as plt\n",
        "\n",
        "plt.figure(figsize=(20,15))\n",
        "for i in range(1, 7):\n",
        "    f = data_path + os.listdir(data_path)[np.random.randint(800)]\n",
        "    img = cv2.imread(f, cv2.IMREAD_COLOR)\n",
        "    plt.subplot(3,2,i)\n",
        "    plt.imshow(img)"
      ],
      "metadata": {
        "id": "YKxv1A1T3zt2"
      },
      "execution_count": null,
      "outputs": []
    },
    {
      "cell_type": "code",
      "source": [
        "f = data_path + os.listdir(data_path)[0]\n",
        "img = cv2.imread(f, cv2.IMREAD_COLOR)\n",
        "print(img.shape)"
      ],
      "metadata": {
        "id": "CLgKgbLN31wL"
      },
      "execution_count": null,
      "outputs": []
    },
    {
      "cell_type": "code",
      "source": [
        "import tensorflow as tf\n",
        "\n",
        "def normalize(x):\n",
        "    x = tf.cast(x, tf.float32)\n",
        "    return (x/127.5) - 1\n",
        "\n",
        "def denormalize(x):\n",
        "    x = (x+1)*127.5\n",
        "    x = x.numpy()\n",
        "    return x.astype(np.uint8)\n",
        "\n",
        "def load_img(img_path):\n",
        "    img = tf.io.read_file(img_path)\n",
        "    img = tf.image.decode_image(img, 3)\n",
        "    \n",
        "    w = tf.shape(img)[1] // 2\n",
        "    sketch = img[:, :w, :] \n",
        "    sketch = tf.cast(sketch, tf.float32)\n",
        "    colored = img[:, w:, :] \n",
        "    colored = tf.cast(colored, tf.float32)\n",
        "    return normalize(sketch), normalize(colored)\n",
        "\n",
        "f = data_path + os.listdir(data_path)[1]\n",
        "sketch, colored = load_img(f)\n",
        "\n",
        "plt.figure(figsize=(10,7))\n",
        "plt.subplot(1,2,1); plt.imshow(denormalize(sketch))\n",
        "plt.subplot(1,2,2); plt.imshow(denormalize(colored))"
      ],
      "metadata": {
        "id": "F_e335M233r4"
      },
      "execution_count": null,
      "outputs": []
    },
    {
      "cell_type": "markdown",
      "source": [
        "### Model"
      ],
      "metadata": {
        "id": "w6RHzlFi4fga"
      }
    },
    {
      "cell_type": "code",
      "source": [
        "from tensorflow.keras import layers, Input, Model\n",
        "\n",
        "class EncodeBlock(layers.Layer):\n",
        "    def __init__(self, n_filters, use_bn=True):\n",
        "        super(EncodeBlock, self).__init__()\n",
        "        self.use_bn = use_bn       \n",
        "        self.conv = layers.Conv2D(n_filters, 4, 2, \"same\", use_bias=False)\n",
        "        self.batchnorm = layers.BatchNormalization()\n",
        "        self.lrelu= layers.LeakyReLU(0.2)\n",
        "\n",
        "    def call(self, x):\n",
        "        x = self.conv(x)\n",
        "        if self.use_bn:\n",
        "            x = self.batchnorm(x)\n",
        "        return self.lrelu(x)"
      ],
      "metadata": {
        "id": "sJFQ1sWxxAZq"
      },
      "execution_count": 31,
      "outputs": []
    },
    {
      "cell_type": "code",
      "source": [
        "class Encoder(layers.Layer):\n",
        "    def __init__(self):\n",
        "        super(Encoder, self).__init__()\n",
        "        filters = [64,128,256,512,512,512,512,512]\n",
        "        \n",
        "        # for문과 리스트 filter를 활용해서 EncoderBlock을 쌓아주세요.\n",
        "        # 조건 1. 첫번째 EncoderBlock의 경우 Batch Normalization을 생략해주세요.\n",
        "        self.blocks = [] \n",
        "    \n",
        "    def call(self, x):\n",
        "        for block in self.blocks:\n",
        "            x = block(x)\n",
        "        return x\n",
        "    \n",
        "    def get_summary(self, input_shape=(256,256,3)):\n",
        "        inputs = Input(input_shape)\n",
        "        return Model(inputs, self.call(inputs)).summary()"
      ],
      "metadata": {
        "id": "iApovK3JxAWp"
      },
      "execution_count": 32,
      "outputs": []
    },
    {
      "cell_type": "code",
      "source": [
        "Encoder().get_summary()"
      ],
      "metadata": {
        "colab": {
          "base_uri": "https://localhost:8080/"
        },
        "id": "YS9N_ofixHbg",
        "outputId": "92af0d96-ac4d-48af-af90-78791aba095d"
      },
      "execution_count": 33,
      "outputs": [
        {
          "output_type": "stream",
          "name": "stdout",
          "text": [
            "Model: \"model\"\n",
            "_________________________________________________________________\n",
            " Layer (type)                Output Shape              Param #   \n",
            "=================================================================\n",
            " input_1 (InputLayer)        [(None, 256, 256, 3)]     0         \n",
            "                                                                 \n",
            "=================================================================\n",
            "Total params: 0\n",
            "Trainable params: 0\n",
            "Non-trainable params: 0\n",
            "_________________________________________________________________\n"
          ]
        }
      ]
    },
    {
      "cell_type": "code",
      "source": [
        "class DecodeBlock(layers.Layer):\n",
        "    def __init__(self, f, dropout=True):\n",
        "        super(DecodeBlock, self).__init__()\n",
        "        self.dropout = dropout\n",
        "        self.Transconv = layers.Conv2DTranspose(f, 4, 2, \"same\", use_bias=False)\n",
        "        self.batchnorm = layers.BatchNormalization()\n",
        "        self.relu = layers.ReLU()\n",
        "\n",
        "    def call(self, x):\n",
        "        x = self.Transconv(x)\n",
        "        x = self.batchnorm(x)\n",
        "        if self.dropout:\n",
        "            x = layers.Dropout(.5)(x)\n",
        "        return self.relu(x)\n",
        "\n",
        "    \n",
        "class Decoder(layers.Layer):\n",
        "    def __init__(self):\n",
        "        super(Decoder, self).__init__()\n",
        "        filters = [512,512,512,512,256,128,64]\n",
        "        self.blocks = []\n",
        "        \n",
        "        # Build the blocks with Conv2DTranspose and Dropout\n",
        "        for i, f in enumerate(filters):\n",
        "            if i < 3:\n",
        "                self.blocks.append(DecodeBlock(f, dropout=True))\n",
        "            else:\n",
        "                self.blocks.append(DecodeBlock(f, dropout=False))\n",
        "        \n",
        "        # Add the final Conv2DTranspose layer\n",
        "        self.final_transconv = layers.Conv2DTranspose(3, 4, 2, \"same\", use_bias=False)\n",
        "        \n",
        "    def call(self, x):\n",
        "        for block in self.blocks:\n",
        "            x = block(x)\n",
        "        return x\n",
        "            \n",
        "    def get_summary(self, input_shape=(1,1,512)):\n",
        "        inputs = Input(input_shape)\n",
        "        return Model(inputs, self.call(inputs)).summary()"
      ],
      "metadata": {
        "id": "GRvsvJpVtng5"
      },
      "execution_count": 34,
      "outputs": []
    },
    {
      "cell_type": "code",
      "source": [
        "Decoder().get_summary()"
      ],
      "metadata": {
        "colab": {
          "base_uri": "https://localhost:8080/"
        },
        "id": "ciQTNZyPxKrL",
        "outputId": "2b95f633-1136-43b3-f61c-5b92aed20637"
      },
      "execution_count": 35,
      "outputs": [
        {
          "output_type": "stream",
          "name": "stdout",
          "text": [
            "Model: \"model_1\"\n",
            "_________________________________________________________________\n",
            " Layer (type)                Output Shape              Param #   \n",
            "=================================================================\n",
            " input_2 (InputLayer)        [(None, 1, 1, 512)]       0         \n",
            "                                                                 \n",
            " decode_block (DecodeBlock)  (None, 2, 2, 512)         4196352   \n",
            "                                                                 \n",
            " decode_block_1 (DecodeBlock  (None, 4, 4, 512)        4196352   \n",
            " )                                                               \n",
            "                                                                 \n",
            " decode_block_2 (DecodeBlock  (None, 8, 8, 512)        4196352   \n",
            " )                                                               \n",
            "                                                                 \n",
            " decode_block_3 (DecodeBlock  (None, 16, 16, 512)      4196352   \n",
            " )                                                               \n",
            "                                                                 \n",
            " decode_block_4 (DecodeBlock  (None, 32, 32, 256)      2098176   \n",
            " )                                                               \n",
            "                                                                 \n",
            " decode_block_5 (DecodeBlock  (None, 64, 64, 128)      524800    \n",
            " )                                                               \n",
            "                                                                 \n",
            " decode_block_6 (DecodeBlock  (None, 128, 128, 64)     131328    \n",
            " )                                                               \n",
            "                                                                 \n",
            "=================================================================\n",
            "Total params: 19,539,712\n",
            "Trainable params: 19,534,720\n",
            "Non-trainable params: 4,992\n",
            "_________________________________________________________________\n"
          ]
        }
      ]
    },
    {
      "cell_type": "code",
      "source": [
        "class EncoderDecoderGenerator(Model):\n",
        "    def __init__(self):\n",
        "        super(EncoderDecoderGenerator, self).__init__()\n",
        "        self.encoder = Encoder()\n",
        "        self.decoder = Decoder()\n",
        "    \n",
        "    def call(self, x):\n",
        "        x = self.encoder(x)\n",
        "        x = self.decoder(x)\n",
        "        return x\n",
        "   \n",
        "    def get_summary(self, input_shape=(256,256,3)):\n",
        "        inputs = Input(input_shape)\n",
        "        return Model(inputs, self.call(inputs)).summary()\n",
        "        \n",
        "\n",
        "EncoderDecoderGenerator().get_summary()"
      ],
      "metadata": {
        "colab": {
          "base_uri": "https://localhost:8080/"
        },
        "id": "Mv01MfepxNvw",
        "outputId": "4c2b7422-8d2a-4467-d76b-d7f330dbce95"
      },
      "execution_count": 36,
      "outputs": [
        {
          "output_type": "stream",
          "name": "stdout",
          "text": [
            "Model: \"model_2\"\n",
            "_________________________________________________________________\n",
            " Layer (type)                Output Shape              Param #   \n",
            "=================================================================\n",
            " input_3 (InputLayer)        [(None, 256, 256, 3)]     0         \n",
            "                                                                 \n",
            " encoder_1 (Encoder)         (None, 256, 256, 3)       0         \n",
            "                                                                 \n",
            " decoder_1 (Decoder)         (None, 32768, 32768, 64)  15369984  \n",
            "                                                                 \n",
            "=================================================================\n",
            "Total params: 15,369,984\n",
            "Trainable params: 15,364,992\n",
            "Non-trainable params: 4,992\n",
            "_________________________________________________________________\n"
          ]
        }
      ]
    },
    {
      "cell_type": "code",
      "source": [
        "class EncodeBlock(layers.Layer):\n",
        "    def __init__(self, n_filters, use_bn=True):\n",
        "        super(EncodeBlock, self).__init__()\n",
        "        self.use_bn = use_bn       \n",
        "        self.conv = layers.Conv2D(n_filters, 4, 2, \"same\", use_bias=False)\n",
        "        self.batchnorm = layers.BatchNormalization()\n",
        "        self.lrelu = layers.LeakyReLU(0.2)\n",
        "\n",
        "    def call(self, x):\n",
        "        x = self.conv(x)\n",
        "        if self.use_bn:\n",
        "            x = self.batchnorm(x)\n",
        "        return self.lrelu(x)\n",
        "\n",
        "    \n",
        "class DecodeBlock(layers.Layer):\n",
        "    def __init__(self, f, dropout=True):\n",
        "        super(DecodeBlock, self).__init__()\n",
        "        self.dropout = dropout\n",
        "        self.Transconv = layers.Conv2DTranspose(f, 4, 2, \"same\", use_bias=False)\n",
        "        self.batchnorm = layers.BatchNormalization()\n",
        "        self.relu = layers.ReLU()\n",
        "        \n",
        "    def call(self, x):\n",
        "        x = self.Transconv(x)\n",
        "        x = self.batchnorm(x)\n",
        "        if self.dropout:\n",
        "            x = layers.Dropout(.5)(x)\n",
        "        return self.relu(x)"
      ],
      "metadata": {
        "id": "-Ix8Jqd-xQx6"
      },
      "execution_count": 37,
      "outputs": []
    },
    {
      "cell_type": "code",
      "source": [
        "class UNetGenerator(Model):\n",
        "    def __init__(self):\n",
        "        super(UNetGenerator, self).__init__()\n",
        "        encode_filters = [64,128,256,512,512,512,512,512]\n",
        "        decode_filters = [512,512,512,512,256,128,64]\n",
        "        \n",
        "        self.encode_blocks = []\n",
        "        for i, f in enumerate(encode_filters):\n",
        "            if i == 0:\n",
        "                self.encode_blocks.append(EncodeBlock(f, use_bn=False))\n",
        "            else:\n",
        "                self.encode_blocks.append(EncodeBlock(f))\n",
        "        \n",
        "        self.decode_blocks = []\n",
        "        for i, f in enumerate(decode_filters):\n",
        "            if i < 3:\n",
        "                self.decode_blocks.append(DecodeBlock(f))\n",
        "            else:\n",
        "                self.decode_blocks.append(DecodeBlock(f, dropout=False))\n",
        "        \n",
        "        self.last_conv = layers.Conv2DTranspose(3, 4, 2, \"same\", use_bias=False)\n",
        "    \n",
        "    def call(self, x):\n",
        "        features = []\n",
        "        for block in self.encode_blocks:\n",
        "            x = block(x)\n",
        "            features.append(x)\n",
        "        \n",
        "        features = features[:-1]\n",
        "                    \n",
        "        for block, feat in zip(self.decode_blocks, features[::-1]):\n",
        "            x = block(x)\n",
        "            x = layers.Concatenate()([x, feat])\n",
        "        \n",
        "        x = self.last_conv(x)\n",
        "        return x\n",
        "                \n",
        "    def get_summary(self, input_shape=(256,256,3)):\n",
        "        inputs = Input(input_shape)\n",
        "        return Model(inputs, self.call(inputs)).summary()"
      ],
      "metadata": {
        "id": "wDXQT9AkxVG2"
      },
      "execution_count": 38,
      "outputs": []
    },
    {
      "cell_type": "code",
      "source": [
        "UNetGenerator().get_summary()"
      ],
      "metadata": {
        "colab": {
          "base_uri": "https://localhost:8080/"
        },
        "id": "oTpKjNd8xYNg",
        "outputId": "2f0f8a0b-2a91-406c-d503-f26feff572fe"
      },
      "execution_count": 39,
      "outputs": [
        {
          "output_type": "stream",
          "name": "stdout",
          "text": [
            "Model: \"model_3\"\n",
            "__________________________________________________________________________________________________\n",
            " Layer (type)                   Output Shape         Param #     Connected to                     \n",
            "==================================================================================================\n",
            " input_4 (InputLayer)           [(None, 256, 256, 3  0           []                               \n",
            "                                )]                                                                \n",
            "                                                                                                  \n",
            " encode_block (EncodeBlock)     (None, 128, 128, 64  3072        ['input_4[0][0]']                \n",
            "                                )                                                                 \n",
            "                                                                                                  \n",
            " encode_block_1 (EncodeBlock)   (None, 64, 64, 128)  131584      ['encode_block[0][0]']           \n",
            "                                                                                                  \n",
            " encode_block_2 (EncodeBlock)   (None, 32, 32, 256)  525312      ['encode_block_1[0][0]']         \n",
            "                                                                                                  \n",
            " encode_block_3 (EncodeBlock)   (None, 16, 16, 512)  2099200     ['encode_block_2[0][0]']         \n",
            "                                                                                                  \n",
            " encode_block_4 (EncodeBlock)   (None, 8, 8, 512)    4196352     ['encode_block_3[0][0]']         \n",
            "                                                                                                  \n",
            " encode_block_5 (EncodeBlock)   (None, 4, 4, 512)    4196352     ['encode_block_4[0][0]']         \n",
            "                                                                                                  \n",
            " encode_block_6 (EncodeBlock)   (None, 2, 2, 512)    4196352     ['encode_block_5[0][0]']         \n",
            "                                                                                                  \n",
            " encode_block_7 (EncodeBlock)   (None, 1, 1, 512)    4196352     ['encode_block_6[0][0]']         \n",
            "                                                                                                  \n",
            " decode_block_14 (DecodeBlock)  (None, 2, 2, 512)    4196352     ['encode_block_7[0][0]']         \n",
            "                                                                                                  \n",
            " concatenate (Concatenate)      (None, 2, 2, 1024)   0           ['decode_block_14[0][0]',        \n",
            "                                                                  'encode_block_6[0][0]']         \n",
            "                                                                                                  \n",
            " decode_block_15 (DecodeBlock)  (None, 4, 4, 512)    8390656     ['concatenate[0][0]']            \n",
            "                                                                                                  \n",
            " concatenate_1 (Concatenate)    (None, 4, 4, 1024)   0           ['decode_block_15[0][0]',        \n",
            "                                                                  'encode_block_5[0][0]']         \n",
            "                                                                                                  \n",
            " decode_block_16 (DecodeBlock)  (None, 8, 8, 512)    8390656     ['concatenate_1[0][0]']          \n",
            "                                                                                                  \n",
            " concatenate_2 (Concatenate)    (None, 8, 8, 1024)   0           ['decode_block_16[0][0]',        \n",
            "                                                                  'encode_block_4[0][0]']         \n",
            "                                                                                                  \n",
            " decode_block_17 (DecodeBlock)  (None, 16, 16, 512)  8390656     ['concatenate_2[0][0]']          \n",
            "                                                                                                  \n",
            " concatenate_3 (Concatenate)    (None, 16, 16, 1024  0           ['decode_block_17[0][0]',        \n",
            "                                )                                 'encode_block_3[0][0]']         \n",
            "                                                                                                  \n",
            " decode_block_18 (DecodeBlock)  (None, 32, 32, 256)  4195328     ['concatenate_3[0][0]']          \n",
            "                                                                                                  \n",
            " concatenate_4 (Concatenate)    (None, 32, 32, 512)  0           ['decode_block_18[0][0]',        \n",
            "                                                                  'encode_block_2[0][0]']         \n",
            "                                                                                                  \n",
            " decode_block_19 (DecodeBlock)  (None, 64, 64, 128)  1049088     ['concatenate_4[0][0]']          \n",
            "                                                                                                  \n",
            " concatenate_5 (Concatenate)    (None, 64, 64, 256)  0           ['decode_block_19[0][0]',        \n",
            "                                                                  'encode_block_1[0][0]']         \n",
            "                                                                                                  \n",
            " decode_block_20 (DecodeBlock)  (None, 128, 128, 64  262400      ['concatenate_5[0][0]']          \n",
            "                                )                                                                 \n",
            "                                                                                                  \n",
            " concatenate_6 (Concatenate)    (None, 128, 128, 12  0           ['decode_block_20[0][0]',        \n",
            "                                8)                                'encode_block[0][0]']           \n",
            "                                                                                                  \n",
            " conv2d_transpose_23 (Conv2DTra  (None, 256, 256, 3)  6144       ['concatenate_6[0][0]']          \n",
            " nspose)                                                                                          \n",
            "                                                                                                  \n",
            "==================================================================================================\n",
            "Total params: 54,425,856\n",
            "Trainable params: 54,414,976\n",
            "Non-trainable params: 10,880\n",
            "__________________________________________________________________________________________________\n"
          ]
        }
      ]
    },
    {
      "cell_type": "code",
      "source": [
        "class DiscBlock(layers.Layer):\n",
        "    def __init__(self, n_filters, stride=2, custom_pad=False, use_bn=True, act=True):\n",
        "        super(DiscBlock, self).__init__()\n",
        "        self.custom_pad = custom_pad\n",
        "        self.use_bn = use_bn\n",
        "        self.act = act\n",
        "        \n",
        "        if custom_pad:\n",
        "            self.padding = layers.ZeroPadding2D()\n",
        "            self.conv = layers.Conv2D(n_filters, 4, stride, \"valid\", use_bias=False)\n",
        "        else:\n",
        "            self.conv = layers.Conv2D(n_filters, 4, stride, \"same\", use_bias=False)\n",
        "        \n",
        "        self.batchnorm = layers.BatchNormalization() if use_bn else None\n",
        "        self.lrelu = layers.LeakyReLU(0.2) if act else None\n",
        "        \n",
        "    def call(self, x):\n",
        "        if self.custom_pad:\n",
        "            x = self.padding(x)\n",
        "            x = self.conv(x)\n",
        "        else:\n",
        "            x = self.conv(x)\n",
        "                \n",
        "        if self.use_bn:\n",
        "            x = self.batchnorm(x)\n",
        "            \n",
        "        if self.act:\n",
        "            x = self.lrelu(x)\n",
        "        return x "
      ],
      "metadata": {
        "id": "K2jVGaU_xeab"
      },
      "execution_count": 40,
      "outputs": []
    },
    {
      "cell_type": "code",
      "source": [
        "inputs = Input((128,128,32))\n",
        "out = layers.ZeroPadding2D()(inputs)\n",
        "out = layers.Conv2D(64, 4, 1, \"valid\", use_bias=False)(out)\n",
        "out = layers.BatchNormalization()(out)\n",
        "out = layers.LeakyReLU(0.2)(out)\n",
        "\n",
        "Model(inputs, out).summary()"
      ],
      "metadata": {
        "colab": {
          "base_uri": "https://localhost:8080/"
        },
        "id": "-GV4I3_0xoag",
        "outputId": "d1690cc6-ca9d-4475-b4a9-24af0a80f2df"
      },
      "execution_count": 41,
      "outputs": [
        {
          "output_type": "stream",
          "name": "stdout",
          "text": [
            "Model: \"model_4\"\n",
            "_________________________________________________________________\n",
            " Layer (type)                Output Shape              Param #   \n",
            "=================================================================\n",
            " input_5 (InputLayer)        [(None, 128, 128, 32)]    0         \n",
            "                                                                 \n",
            " zero_padding2d (ZeroPadding  (None, 130, 130, 32)     0         \n",
            " 2D)                                                             \n",
            "                                                                 \n",
            " conv2d_8 (Conv2D)           (None, 127, 127, 64)      32768     \n",
            "                                                                 \n",
            " batch_normalization_29 (Bat  (None, 127, 127, 64)     256       \n",
            " chNormalization)                                                \n",
            "                                                                 \n",
            " leaky_re_lu_8 (LeakyReLU)   (None, 127, 127, 64)      0         \n",
            "                                                                 \n",
            "=================================================================\n",
            "Total params: 33,024\n",
            "Trainable params: 32,896\n",
            "Non-trainable params: 128\n",
            "_________________________________________________________________\n"
          ]
        }
      ]
    },
    {
      "cell_type": "code",
      "source": [
        "class Discriminator(Model):\n",
        "    def __init__(self):\n",
        "        super(Discriminator, self).__init__()\n",
        "\n",
        "        filters = [64, 128, 256, 512, 1]\n",
        "        self.blocks = []\n",
        "        for i, f in enumerate(filters):\n",
        "            stride = 2 if i < 3 else 1\n",
        "            padding = 'valid' if i < 3 else 'same'\n",
        "            use_batchnorm = i != 0 and i != len(filters) - 1\n",
        "            activation = tf.keras.layers.LeakyReLU(0.2) if i != len(filters) - 1 else tf.keras.activations.sigmoid\n",
        "            self.blocks.append(DiscBlock(f, stride, padding, use_batchnorm, activation))\n",
        "\n",
        "    def call(self, x, y):\n",
        "        out = tf.concat([x, y], axis=-1)\n",
        "        for block in self.blocks:\n",
        "            out = block(out)\n",
        "        return out\n",
        "\n",
        "    def get_summary(self, x_shape=(256, 256, 3), y_shape=(256, 256, 3)):\n",
        "        x, y = Input(x_shape), Input(y_shape)\n",
        "        return Model([x, y], self.call(x, y)).summary()"
      ],
      "metadata": {
        "id": "Q7HmuX-Oxqvg"
      },
      "execution_count": 50,
      "outputs": []
    },
    {
      "cell_type": "code",
      "source": [
        "Discriminator().get_summary()"
      ],
      "metadata": {
        "colab": {
          "base_uri": "https://localhost:8080/"
        },
        "id": "iiv6hcO-xt7i",
        "outputId": "fd6f4e40-10cc-41f9-819d-affa6f90f5fd"
      },
      "execution_count": 51,
      "outputs": [
        {
          "output_type": "stream",
          "name": "stdout",
          "text": [
            "Model: \"model_5\"\n",
            "__________________________________________________________________________________________________\n",
            " Layer (type)                   Output Shape         Param #     Connected to                     \n",
            "==================================================================================================\n",
            " input_14 (InputLayer)          [(None, 256, 256, 3  0           []                               \n",
            "                                )]                                                                \n",
            "                                                                                                  \n",
            " input_15 (InputLayer)          [(None, 256, 256, 3  0           []                               \n",
            "                                )]                                                                \n",
            "                                                                                                  \n",
            " tf.concat_2 (TFOpLambda)       (None, 256, 256, 6)  0           ['input_14[0][0]',               \n",
            "                                                                  'input_15[0][0]']               \n",
            "                                                                                                  \n",
            " disc_block_15 (DiscBlock)      (None, 128, 128, 64  6144        ['tf.concat_2[0][0]']            \n",
            "                                )                                                                 \n",
            "                                                                                                  \n",
            " disc_block_16 (DiscBlock)      (None, 64, 64, 128)  131584      ['disc_block_15[0][0]']          \n",
            "                                                                                                  \n",
            " disc_block_17 (DiscBlock)      (None, 32, 32, 256)  525312      ['disc_block_16[0][0]']          \n",
            "                                                                                                  \n",
            " disc_block_18 (DiscBlock)      (None, 31, 31, 512)  2099200     ['disc_block_17[0][0]']          \n",
            "                                                                                                  \n",
            " disc_block_19 (DiscBlock)      (None, 30, 30, 1)    8192        ['disc_block_18[0][0]']          \n",
            "                                                                                                  \n",
            "==================================================================================================\n",
            "Total params: 2,770,432\n",
            "Trainable params: 2,768,640\n",
            "Non-trainable params: 1,792\n",
            "__________________________________________________________________________________________________\n"
          ]
        }
      ]
    },
    {
      "cell_type": "code",
      "source": [
        "x = tf.random.normal([1,256,256,3])\n",
        "y = tf.random.uniform([1,256,256,3])\n",
        "\n",
        "disc_out = Discriminator()(x, y)\n",
        "plt.imshow(disc_out[0, ... ,0])\n",
        "plt.colorbar()"
      ],
      "metadata": {
        "colab": {
          "base_uri": "https://localhost:8080/",
          "height": 448
        },
        "id": "Mba94fFexyaN",
        "outputId": "efbe183a-13f7-4121-f87e-659de045f193"
      },
      "execution_count": 57,
      "outputs": [
        {
          "output_type": "execute_result",
          "data": {
            "text/plain": [
              "<matplotlib.colorbar.Colorbar at 0x7f726b4d6800>"
            ]
          },
          "metadata": {},
          "execution_count": 57
        },
        {
          "output_type": "display_data",
          "data": {
            "text/plain": [
              "<Figure size 640x480 with 2 Axes>"
            ],
            "image/png": "[encoded data removed]"
          },
          "metadata": {}
        }
      ]
    },
    {
      "cell_type": "code",
      "source": [
        "from tensorflow.keras import losses\n",
        "\n",
        "bce = losses.BinaryCrossentropy(from_logits=False)\n",
        "mae = losses.MeanAbsoluteError()\n",
        "\n",
        "def get_gene_loss(fake_output, real_output, fake_disc):\n",
        "    l1_loss = mae(real_output, fake_output)\n",
        "    gene_loss = bce(tf.ones_like(fake_disc), fake_disc)\n",
        "    return gene_loss, l1_loss\n",
        "\n",
        "def get_disc_loss(fake_disc, real_disc):\n",
        "    return bce(tf.zeros_like(fake_disc), fake_disc) + bce(tf.ones_like(real_disc), real_disc)\n"
      ],
      "metadata": {
        "id": "fKeruXjwz9j4"
      },
      "execution_count": 58,
      "outputs": []
    },
    {
      "cell_type": "code",
      "source": [
        "from tensorflow.keras import optimizers\n",
        "\n",
        "gene_opt = optimizers.Adam(2e-4, beta_1=.5, beta_2=.999)\n",
        "disc_opt = optimizers.Adam(2e-4, beta_1=.5, beta_2=.999)\n"
      ],
      "metadata": {
        "id": "a8mcYPH_0EBr"
      },
      "execution_count": 59,
      "outputs": []
    },
    {
      "cell_type": "code",
      "source": [
        "@tf.function\n",
        "def train_step(sketch, real_colored):\n",
        "    with tf.GradientTape() as gene_tape, tf.GradientTape() as disc_tape:\n",
        "        generated_colored = generator(sketch, training=True)\n",
        "\n",
        "        disc_real_output = discriminator(sketch, real_colored, training=True)\n",
        "        disc_generated_output = discriminator(sketch, generated_colored, training=True)\n",
        "\n",
        "        gene_loss = generator_loss(disc_generated_output)\n",
        "        l1_loss = compute_l1_loss(real_colored, generated_colored)\n",
        "        disc_loss = discriminator_loss(disc_real_output, disc_generated_output)\n",
        "    \n",
        "    gene_gradient = gene_tape.gradient(gene_loss, generator.trainable_variables)\n",
        "    disc_gradient = disc_tape.gradient(disc_loss, discriminator.trainable_variables)\n",
        "\n",
        "    gene_opt.apply_gradients(zip(gene_gradient, generator.trainable_variables))\n",
        "    disc_opt.apply_gradients(zip(disc_gradient, discriminator.trainable_variables))\n",
        "\n",
        "    return gene_loss, l1_loss, disc_loss\n",
        "    \n",
        "def compute_l1_loss(real, generated):\n",
        "    return tf.reduce_mean(tf.abs(real - generated))"
      ],
      "metadata": {
        "id": "_povopDF0G4n"
      },
      "execution_count": 60,
      "outputs": []
    },
    {
      "cell_type": "code",
      "source": [
        "EPOCHS = 10\n",
        "\n",
        "generator = UNetGenerator()\n",
        "discriminator = Discriminator()\n",
        "\n",
        "for epoch in range(1, EPOCHS+1):\n",
        "    for i, (sketch, colored) in enumerate(train_images):\n",
        "        g_loss, l1_loss, d_loss = train_step(sketch, colored)\n",
        "                \n",
        "        # 10회 반복마다 손실을 출력합니다.\n",
        "        if (i+1) % 10 == 0:\n",
        "            print(f\"EPOCH[{epoch}] - STEP[{i+1}] \\\n",
        "                    \\nGenerator_loss:{g_loss.numpy():.4f} \\\n",
        "                    \\nL1_loss:{l1_loss.numpy():.4f} \\\n",
        "                    \\nDiscriminator_loss:{d_loss.numpy():.4f}\", end=\"\\n\\n\")"
      ],
      "metadata": {
        "colab": {
          "base_uri": "https://localhost:8080/",
          "height": 248
        },
        "id": "HJKvzKu40iE0",
        "outputId": "2ed199b1-f74b-4843-db34-0334d4e00dea"
      },
      "execution_count": 61,
      "outputs": [
        {
          "output_type": "error",
          "ename": "NameError",
          "evalue": "ignored",
          "traceback": [
            "\u001b[0;31m---------------------------------------------------------------------------\u001b[0m",
            "\u001b[0;31mNameError\u001b[0m                                 Traceback (most recent call last)",
            "\u001b[0;32m<ipython-input-61-79d48e4e0df7>\u001b[0m in \u001b[0;36m<cell line: 6>\u001b[0;34m()\u001b[0m\n\u001b[1;32m      5\u001b[0m \u001b[0;34m\u001b[0m\u001b[0m\n\u001b[1;32m      6\u001b[0m \u001b[0;32mfor\u001b[0m \u001b[0mepoch\u001b[0m \u001b[0;32min\u001b[0m \u001b[0mrange\u001b[0m\u001b[0;34m(\u001b[0m\u001b[0;36m1\u001b[0m\u001b[0;34m,\u001b[0m \u001b[0mEPOCHS\u001b[0m\u001b[0;34m+\u001b[0m\u001b[0;36m1\u001b[0m\u001b[0;34m)\u001b[0m\u001b[0;34m:\u001b[0m\u001b[0;34m\u001b[0m\u001b[0;34m\u001b[0m\u001b[0m\n\u001b[0;32m----> 7\u001b[0;31m     \u001b[0;32mfor\u001b[0m \u001b[0mi\u001b[0m\u001b[0;34m,\u001b[0m \u001b[0;34m(\u001b[0m\u001b[0msketch\u001b[0m\u001b[0;34m,\u001b[0m \u001b[0mcolored\u001b[0m\u001b[0;34m)\u001b[0m \u001b[0;32min\u001b[0m \u001b[0menumerate\u001b[0m\u001b[0;34m(\u001b[0m\u001b[0mtrain_images\u001b[0m\u001b[0;34m)\u001b[0m\u001b[0;34m:\u001b[0m\u001b[0;34m\u001b[0m\u001b[0;34m\u001b[0m\u001b[0m\n\u001b[0m\u001b[1;32m      8\u001b[0m         \u001b[0mg_loss\u001b[0m\u001b[0;34m,\u001b[0m \u001b[0ml1_loss\u001b[0m\u001b[0;34m,\u001b[0m \u001b[0md_loss\u001b[0m \u001b[0;34m=\u001b[0m \u001b[0mtrain_step\u001b[0m\u001b[0;34m(\u001b[0m\u001b[0msketch\u001b[0m\u001b[0;34m,\u001b[0m \u001b[0mcolored\u001b[0m\u001b[0;34m)\u001b[0m\u001b[0;34m\u001b[0m\u001b[0;34m\u001b[0m\u001b[0m\n\u001b[1;32m      9\u001b[0m \u001b[0;34m\u001b[0m\u001b[0m\n",
            "\u001b[0;31mNameError\u001b[0m: name 'train_images' is not defined"
          ]
        }
      ]
    },
    {
      "cell_type": "code",
      "source": [
        "test_ind = 1\n",
        "\n",
        "f = data_path + os.listdir(data_path)[test_ind]\n",
        "sketch, colored = load_img(f)\n",
        "\n",
        "pred = generator(tf.expand_dims(sketch, 0))\n",
        "pred = denormalize(pred)\n",
        "\n",
        "plt.figure(figsize=(20,10))\n",
        "plt.subplot(1,3,1); plt.imshow(denormalize(sketch))\n",
        "plt.subplot(1,3,2); plt.imshow(pred[0])\n",
        "plt.subplot(1,3,3); plt.imshow(denormalize(colored)"
      ],
      "metadata": {
        "id": "_4sVvfv_06b2"
      },
      "execution_count": null,
      "outputs": []
    }
  ]
}