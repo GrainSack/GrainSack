{
  "nbformat": 4,
  "nbformat_minor": 0,
  "metadata": {
    "colab": {
      "provenance": [],
      "authorship_tag": "ABX9TyNZPpU0Y8svtRmBbEZBT2K6",
      "include_colab_link": true
    },
    "kernelspec": {
      "name": "python3",
      "display_name": "Python 3"
    },
    "language_info": {
      "name": "python"
    }
  },
  "cells": [
    {
      "cell_type": "markdown",
      "metadata": {
        "id": "view-in-github",
        "colab_type": "text"
      },
      "source": [
        "<a href=\"https://colab.research.google.com/github/GrainSack/GrainSack/blob/main/Word_Embedding.ipynb\" target=\"_parent\"><img src=\"https://colab.research.google.com/assets/colab-badge.svg\" alt=\"Open In Colab\"/></a>"
      ]
    },
    {
      "cell_type": "code",
      "execution_count": 1,
      "metadata": {
        "colab": {
          "base_uri": "https://localhost:8080/"
        },
        "id": "lwWjQMJN4m3n",
        "outputId": "fa277bcf-fa6d-4b2e-d708-0d2293db08dd"
      },
      "outputs": [
        {
          "output_type": "stream",
          "name": "stdout",
          "text": [
            "['i', 'feel', 'hungry']\n"
          ]
        }
      ],
      "source": [
        "# 처리해야 할 문장을 파이썬 리스트에 옮겨 담았습니다.\n",
        "sentences=['i feel hungry', 'i eat lunch', 'now i feel happy']\n",
        "\n",
        "# 파이썬 split() 메소드를 이용해 단어 단위로 문장을 쪼개 봅니다.\n",
        "word_list = 'i feel hungry'.split()\n",
        "print(word_list)"
      ]
    },
    {
      "cell_type": "code",
      "source": [
        "index_to_word={}  # 빈 딕셔너리를 만들어서\n",
        "\n",
        "# 단어들을 하나씩 채워 봅니다. 채우는 순서는 일단 임의로 하였습니다. 그러나 사실 순서는 중요하지 않습니다. \n",
        "# <BOS>, <PAD>, <UNK>는 관례적으로 딕셔너리 맨 앞에 넣어줍니다. \n",
        "index_to_word[0]='<PAD>'  # 패딩용 단어\n",
        "index_to_word[1]='<BOS>'  # 문장의 시작지점\n",
        "index_to_word[2]='<UNK>'  # 사전에 없는(Unknown) 단어\n",
        "index_to_word[3]='i'\n",
        "index_to_word[4]='feel'\n",
        "index_to_word[5]='hungry'\n",
        "index_to_word[6]='eat'\n",
        "index_to_word[7]='lunch'\n",
        "index_to_word[8]='now'\n",
        "index_to_word[9]='happy'\n",
        "\n",
        "print(index_to_word)"
      ],
      "metadata": {
        "colab": {
          "base_uri": "https://localhost:8080/"
        },
        "id": "q5xeUp-74rh7",
        "outputId": "b2f014eb-9cf4-4532-b783-084c53f763d8"
      },
      "execution_count": 2,
      "outputs": [
        {
          "output_type": "stream",
          "name": "stdout",
          "text": [
            "{0: '<PAD>', 1: '<BOS>', 2: '<UNK>', 3: 'i', 4: 'feel', 5: 'hungry', 6: 'eat', 7: 'lunch', 8: 'now', 9: 'happy'}\n"
          ]
        }
      ]
    },
    {
      "cell_type": "code",
      "source": [
        "word_to_index={word:index for index, word in index_to_word.items()}\n",
        "print(word_to_index)"
      ],
      "metadata": {
        "colab": {
          "base_uri": "https://localhost:8080/"
        },
        "id": "F4pA5kb14vmw",
        "outputId": "17cddeed-d9d1-46ad-a9d4-8d343fa51016"
      },
      "execution_count": 3,
      "outputs": [
        {
          "output_type": "stream",
          "name": "stdout",
          "text": [
            "{'<PAD>': 0, '<BOS>': 1, '<UNK>': 2, 'i': 3, 'feel': 4, 'hungry': 5, 'eat': 6, 'lunch': 7, 'now': 8, 'happy': 9}\n"
          ]
        }
      ]
    },
    {
      "cell_type": "code",
      "source": [
        "print(word_to_index['feel'])  # 단어 'feel'은 숫자 인덱스 4로 바뀝니다."
      ],
      "metadata": {
        "colab": {
          "base_uri": "https://localhost:8080/"
        },
        "id": "CEPSQ6ix44xr",
        "outputId": "56a6dfc4-ef2a-48ad-8dd9-f8d0d82683fe"
      },
      "execution_count": 4,
      "outputs": [
        {
          "output_type": "stream",
          "name": "stdout",
          "text": [
            "4\n"
          ]
        }
      ]
    },
    {
      "cell_type": "code",
      "source": [
        "# 문장 1개를 활용할 딕셔너리와 함께 주면, 단어 인덱스 리스트로 변환해 주는 함수를 만들어 봅시다.\n",
        "# 단, 모든 문장은 <BOS>로 시작하는 것으로 합니다. \n",
        "def get_encoded_sentence(sentence, word_to_index):\n",
        "    return [word_to_index['<BOS>']]+[word_to_index[word] if word in word_to_index else word_to_index['<UNK>'] for word in sentence.split()]\n",
        "\n",
        "print(get_encoded_sentence('i eat lunch sparsity', word_to_index))"
      ],
      "metadata": {
        "colab": {
          "base_uri": "https://localhost:8080/"
        },
        "id": "uZVtLr_B4-t8",
        "outputId": "a5318ef3-e2fd-4980-d162-7787975c65b1"
      },
      "execution_count": 6,
      "outputs": [
        {
          "output_type": "stream",
          "name": "stdout",
          "text": [
            "[1, 3, 6, 7, 2]\n"
          ]
        }
      ]
    },
    {
      "cell_type": "code",
      "source": [
        "# 여러 개의 문장 리스트를 한꺼번에 숫자 텐서로 encode해 주는 함수입니다. \n",
        "def get_encoded_sentences(sentences, word_to_index):\n",
        "    return [get_encoded_sentence(sentence, word_to_index) for sentence in sentences]\n",
        "\n",
        "# sentences=['i feel hungry', 'i eat lunch', 'now i feel happy'] 가 아래와 같이 변환됩니다. \n",
        "encoded_sentences = get_encoded_sentences(sentences, word_to_index)\n",
        "print(encoded_sentences)"
      ],
      "metadata": {
        "colab": {
          "base_uri": "https://localhost:8080/"
        },
        "id": "8Zx3pj3w5BpG",
        "outputId": "a46e6647-7195-402c-eeba-4a404fe61292"
      },
      "execution_count": 7,
      "outputs": [
        {
          "output_type": "stream",
          "name": "stdout",
          "text": [
            "[[1, 3, 4, 5], [1, 3, 6, 7], [1, 8, 3, 4, 9]]\n"
          ]
        }
      ]
    },
    {
      "cell_type": "code",
      "source": [
        "# 숫자 벡터로 encode된 문장을 원래대로 decode하는 함수입니다. \n",
        "def get_decoded_sentence(encoded_sentence, index_to_word):\n",
        "    return ' '.join(index_to_word[index] if index in index_to_word else '<UNK>' for index in encoded_sentence[1:])  #[1:]를 통해 <BOS>를 제외\n",
        "\n",
        "print(get_decoded_sentence([1, 3, 4, 5], index_to_word))"
      ],
      "metadata": {
        "colab": {
          "base_uri": "https://localhost:8080/"
        },
        "id": "d7GqavMN5dke",
        "outputId": "fb801f84-72d2-4d04-ff47-cbf472ed21f1"
      },
      "execution_count": 13,
      "outputs": [
        {
          "output_type": "stream",
          "name": "stdout",
          "text": [
            "i feel hungry\n"
          ]
        }
      ]
    },
    {
      "cell_type": "code",
      "source": [
        "# 여러 개의 숫자 벡터로 encode된 문장을 한꺼번에 원래대로 decode하는 함수입니다. \n",
        "def get_decoded_sentences(encoded_sentences, index_to_word):\n",
        "    return [get_decoded_sentence(encoded_sentence, index_to_word) for encoded_sentence in encoded_sentences]\n",
        "\n",
        "# encoded_sentences=[[1, 3, 4, 5], [1, 3, 6, 7], [1, 8, 3, 4, 9]] 가 아래와 같이 변환됩니다.\n",
        "print(get_decoded_sentences(encoded_sentences, index_to_word))"
      ],
      "metadata": {
        "colab": {
          "base_uri": "https://localhost:8080/"
        },
        "id": "TPjgP8hn5gOe",
        "outputId": "0f056269-9b57-476c-bed3-9ab6177d5273"
      },
      "execution_count": 14,
      "outputs": [
        {
          "output_type": "stream",
          "name": "stdout",
          "text": [
            "['i feel hungry', 'i eat lunch', 'now i feel happy']\n"
          ]
        }
      ]
    },
    {
      "cell_type": "code",
      "source": [
        "# 아래 코드는 그대로 실행하시면 에러가 발생할 것입니다. \n",
        "\n",
        "import numpy as np\n",
        "import tensorflow as tf\n",
        "import os\n",
        "\n",
        "vocab_size = len(word_to_index)  # 위 예시에서 딕셔너리에 포함된 단어 개수는 10\n",
        "word_vector_dim = 4    # 위 그림과 같이 4차원의 워드 벡터를 가정합니다. \n",
        "\n",
        "embedding = tf.keras.layers.Embedding(input_dim=vocab_size, output_dim=word_vector_dim, mask_zero=True)\n",
        "\n",
        "# 숫자로 변환된 텍스트 데이터 [[1, 3, 4, 5], [1, 3, 6, 7], [1, 8, 3, 4, 9]] 에 Embedding 레이어를 적용합니다. \n",
        "raw_inputs = np.array(get_encoded_sentences(sentences, word_to_index), dtype='object')\n",
        "output = embedding(raw_inputs)\n",
        "print(output)\n",
        "\n",
        "'''\n",
        "에러가 발생하는 이유\n",
        "각 word들의 length 가 일정하지 않기때문에\n",
        "이때 pad 를 사용하면 된다\n",
        "'''"
      ],
      "metadata": {
        "id": "jOTs9vKU5wQs"
      },
      "execution_count": null,
      "outputs": []
    },
    {
      "cell_type": "code",
      "source": [
        "import tensorflow as tf\n",
        "import numpy as np\n",
        "import os\n",
        "\n",
        "raw_inputs = np.array(get_encoded_sentences(sentences, word_to_index), dtype='object')\n",
        "raw_inputs = tf.keras.preprocessing.sequence.pad_sequences(raw_inputs,\n",
        "                                                       value=word_to_index['<PAD>'],\n",
        "                                                       padding='post',\n",
        "                                                       maxlen=5)\n",
        "print(raw_inputs)"
      ],
      "metadata": {
        "colab": {
          "base_uri": "https://localhost:8080/"
        },
        "id": "pWgBH3Tw6XxQ",
        "outputId": "6d2ea822-631c-4fcc-e43d-9eed60492e15"
      },
      "execution_count": 18,
      "outputs": [
        {
          "output_type": "stream",
          "name": "stdout",
          "text": [
            "[[1 3 4 5 0]\n",
            " [1 3 6 7 0]\n",
            " [1 8 3 4 9]]\n"
          ]
        }
      ]
    },
    {
      "cell_type": "code",
      "source": [
        "vocab_size = len(word_to_index)  # 위 예시에서 딕셔너리에 포함된 단어 개수는 10\n",
        "word_vector_dim = 4    # 그림과 같이 4차원의 워드 벡터를 가정합니다.\n",
        "\n",
        "embedding = tf.keras.layers.Embedding(input_dim=vocab_size, output_dim=word_vector_dim, mask_zero=True)\n",
        "\n",
        "# tf.keras.preprocessing.sequence.pad_sequences를 통해 word vector를 모두 일정 길이로 맞춰주어야 \n",
        "# embedding 레이어의 input이 될 수 있음에 주의해 주세요. \n",
        "raw_inputs = np.array(get_encoded_sentences(sentences, word_to_index), dtype=object)\n",
        "raw_inputs = tf.keras.preprocessing.sequence.pad_sequences(raw_inputs,\n",
        "                                                       value=word_to_index['<PAD>'],\n",
        "                                                       padding='post',\n",
        "                                                       maxlen=5)\n",
        "output = embedding(raw_inputs)\n",
        "print(output)"
      ],
      "metadata": {
        "colab": {
          "base_uri": "https://localhost:8080/"
        },
        "id": "NRV_2TCu6a4S",
        "outputId": "410de58b-9975-439a-8423-da9af7ae9269"
      },
      "execution_count": 22,
      "outputs": [
        {
          "output_type": "stream",
          "name": "stdout",
          "text": [
            "tf.Tensor(\n",
            "[[[ 0.00520973  0.00048393 -0.00742472  0.00708374]\n",
            "  [ 0.03046132 -0.00483487 -0.02294813  0.03754559]\n",
            "  [ 0.00396108  0.00743735 -0.01507736 -0.00098472]\n",
            "  [-0.01053713 -0.02878735  0.01699493 -0.00320568]\n",
            "  [-0.00084652 -0.02123395 -0.04659064 -0.02007897]]\n",
            "\n",
            " [[ 0.00520973  0.00048393 -0.00742472  0.00708374]\n",
            "  [ 0.03046132 -0.00483487 -0.02294813  0.03754559]\n",
            "  [ 0.03495017 -0.02354963 -0.02390569 -0.00760776]\n",
            "  [ 0.04960212 -0.02310579  0.02535458  0.02472833]\n",
            "  [-0.00084652 -0.02123395 -0.04659064 -0.02007897]]\n",
            "\n",
            " [[ 0.00520973  0.00048393 -0.00742472  0.00708374]\n",
            "  [-0.03439491 -0.04604412 -0.02090111 -0.02537888]\n",
            "  [ 0.03046132 -0.00483487 -0.02294813  0.03754559]\n",
            "  [ 0.00396108  0.00743735 -0.01507736 -0.00098472]\n",
            "  [-0.03616388 -0.04582508 -0.02540264 -0.01615509]]], shape=(3, 5, 4), dtype=float32)\n"
          ]
        }
      ]
    },
    {
      "cell_type": "code",
      "source": [
        "raw_inputs = np.array(get_encoded_sentences(sentences, word_to_index), dtype=object)\n",
        "raw_inputs"
      ],
      "metadata": {
        "colab": {
          "base_uri": "https://localhost:8080/"
        },
        "id": "0nJqb5o06nyo",
        "outputId": "13c13bed-7528-4565-a1ef-4fa764883e65"
      },
      "execution_count": 20,
      "outputs": [
        {
          "output_type": "execute_result",
          "data": {
            "text/plain": [
              "array([list([1, 3, 4, 5]), list([1, 3, 6, 7]), list([1, 8, 3, 4, 9])],\n",
              "      dtype=object)"
            ]
          },
          "metadata": {},
          "execution_count": 20
        }
      ]
    },
    {
      "cell_type": "code",
      "source": [
        "'''\n",
        "output 결과를 보면 1,2 행렬의 5번째 row가 같다 이는 패딩 coefficient 를 말한다 (1,2 문장은 4개의 단어로 되어있기 때문에 마지막 row 는 padding의 location)\n",
        "'''\n",
        "## RNN model\n",
        "vocab_size = 10  # 어휘 사전의 크기입니다(10개의 단어)\n",
        "word_vector_dim = 4  # 단어 하나를 표현하는 임베딩 벡터의 차원수입니다. \n",
        "\n",
        "model = tf.keras.Sequential()\n",
        "model.add(tf.keras.layers.Embedding(vocab_size, word_vector_dim, input_shape=(None,)))\n",
        "model.add(tf.keras.layers.LSTM(8))   # 가장 널리 쓰이는 RNN인 LSTM 레이어를 사용하였습니다. 이때 LSTM state 벡터의 차원수는 8로 하였습니다. (변경 가능)\n",
        "model.add(tf.keras.layers.Dense(8, activation='relu'))\n",
        "model.add(tf.keras.layers.Dense(1, activation='sigmoid'))  # 최종 출력은 긍정/부정을 나타내는 1dim 입니다.\n",
        "\n",
        "model.summary()"
      ],
      "metadata": {
        "colab": {
          "base_uri": "https://localhost:8080/"
        },
        "id": "O-U3udOY7JLX",
        "outputId": "6a9478e1-7e1c-4eec-a51f-1ac2bdf565fc"
      },
      "execution_count": 23,
      "outputs": [
        {
          "output_type": "stream",
          "name": "stdout",
          "text": [
            "Model: \"sequential\"\n",
            "_________________________________________________________________\n",
            " Layer (type)                Output Shape              Param #   \n",
            "=================================================================\n",
            " embedding_3 (Embedding)     (None, None, 4)           40        \n",
            "                                                                 \n",
            " lstm (LSTM)                 (None, 8)                 416       \n",
            "                                                                 \n",
            " dense (Dense)               (None, 8)                 72        \n",
            "                                                                 \n",
            " dense_1 (Dense)             (None, 1)                 9         \n",
            "                                                                 \n",
            "=================================================================\n",
            "Total params: 537\n",
            "Trainable params: 537\n",
            "Non-trainable params: 0\n",
            "_________________________________________________________________\n"
          ]
        }
      ]
    },
    {
      "cell_type": "code",
      "source": [
        "#1D-CNN\n",
        "vocab_size = 10  # 어휘 사전의 크기입니다(10개의 단어)\n",
        "word_vector_dim = 4   # 단어 하나를 표현하는 임베딩 벡터의 차원 수입니다. \n",
        "\n",
        "model = tf.keras.Sequential()\n",
        "model.add(tf.keras.layers.Embedding(vocab_size, word_vector_dim, input_shape=(None,)))\n",
        "model.add(tf.keras.layers.Conv1D(16, 7, activation='relu'))\n",
        "model.add(tf.keras.layers.MaxPooling1D(5))\n",
        "model.add(tf.keras.layers.Conv1D(16, 7, activation='relu'))\n",
        "model.add(tf.keras.layers.GlobalMaxPooling1D())\n",
        "model.add(tf.keras.layers.Dense(8, activation='relu'))\n",
        "model.add(tf.keras.layers.Dense(1, activation='sigmoid'))  # 최종 출력은 긍정/부정을 나타내는 1dim 입니다.\n",
        "\n",
        "model.summary()"
      ],
      "metadata": {
        "colab": {
          "base_uri": "https://localhost:8080/"
        },
        "id": "c3niOU0l8U2m",
        "outputId": "f7b1ad48-36cd-448c-b837-a174ee1e164c"
      },
      "execution_count": 24,
      "outputs": [
        {
          "output_type": "stream",
          "name": "stdout",
          "text": [
            "Model: \"sequential_1\"\n",
            "_________________________________________________________________\n",
            " Layer (type)                Output Shape              Param #   \n",
            "=================================================================\n",
            " embedding_4 (Embedding)     (None, None, 4)           40        \n",
            "                                                                 \n",
            " conv1d (Conv1D)             (None, None, 16)          464       \n",
            "                                                                 \n",
            " max_pooling1d (MaxPooling1D  (None, None, 16)         0         \n",
            " )                                                               \n",
            "                                                                 \n",
            " conv1d_1 (Conv1D)           (None, None, 16)          1808      \n",
            "                                                                 \n",
            " global_max_pooling1d (Globa  (None, 16)               0         \n",
            " lMaxPooling1D)                                                  \n",
            "                                                                 \n",
            " dense_2 (Dense)             (None, 8)                 136       \n",
            "                                                                 \n",
            " dense_3 (Dense)             (None, 1)                 9         \n",
            "                                                                 \n",
            "=================================================================\n",
            "Total params: 2,457\n",
            "Trainable params: 2,457\n",
            "Non-trainable params: 0\n",
            "_________________________________________________________________\n"
          ]
        }
      ]
    },
    {
      "cell_type": "code",
      "source": [
        "#Mixing\n",
        "vocab_size = 10  # 어휘 사전의 크기입니다(10개의 단어)\n",
        "word_vector_dim = 4   # 단어 하나를 표현하는 임베딩 벡터의 차원 수입니다. \n",
        "\n",
        "model = tf.keras.Sequential()\n",
        "model.add(tf.keras.layers.Embedding(vocab_size, word_vector_dim, input_shape=(None,)))\n",
        "model.add(tf.keras.layers.GlobalMaxPooling1D())\n",
        "model.add(tf.keras.layers.Dense(8, activation='relu'))\n",
        "model.add(tf.keras.layers.Dense(1, activation='sigmoid'))  # 최종 출력은 긍정/부정을 나타내는 1dim 입니다.\n",
        "\n",
        "model.summary()"
      ],
      "metadata": {
        "colab": {
          "base_uri": "https://localhost:8080/"
        },
        "id": "VblBCX2h8gQh",
        "outputId": "987c08f9-f05a-423c-d572-a01b7c6281f4"
      },
      "execution_count": 25,
      "outputs": [
        {
          "output_type": "stream",
          "name": "stdout",
          "text": [
            "Model: \"sequential_2\"\n",
            "_________________________________________________________________\n",
            " Layer (type)                Output Shape              Param #   \n",
            "=================================================================\n",
            " embedding_5 (Embedding)     (None, None, 4)           40        \n",
            "                                                                 \n",
            " global_max_pooling1d_1 (Glo  (None, 4)                0         \n",
            " balMaxPooling1D)                                                \n",
            "                                                                 \n",
            " dense_4 (Dense)             (None, 8)                 40        \n",
            "                                                                 \n",
            " dense_5 (Dense)             (None, 1)                 9         \n",
            "                                                                 \n",
            "=================================================================\n",
            "Total params: 89\n",
            "Trainable params: 89\n",
            "Non-trainable params: 0\n",
            "_________________________________________________________________\n"
          ]
        }
      ]
    },
    {
      "cell_type": "markdown",
      "source": [
        "CNN for NLP : https://wikidocs.net/80437\n",
        "\n",
        "Dataset paper Link : https://aclanthology.org/P11-1015.pdf"
      ],
      "metadata": {
        "id": "kzUGeC7D8w3A"
      }
    },
    {
      "cell_type": "code",
      "source": [
        "imdb = tf.keras.datasets.imdb\n",
        "\n",
        "# IMDb 데이터셋 다운로드 \n",
        "(x_train, y_train), (x_test, y_test) = imdb.load_data(num_words=10000)\n",
        "print(f\"훈련 샘플 개수: {len(x_train)}, 테스트 개수: {len(x_test)}\")"
      ],
      "metadata": {
        "colab": {
          "base_uri": "https://localhost:8080/"
        },
        "id": "5FRNpKa38qdt",
        "outputId": "19d6d45b-f406-4947-f157-c5f3ddcfe61a"
      },
      "execution_count": 26,
      "outputs": [
        {
          "output_type": "stream",
          "name": "stdout",
          "text": [
            "Downloading data from https://storage.googleapis.com/tensorflow/tf-keras-datasets/imdb.npz\n",
            "17464789/17464789 [==============================] - 0s 0us/step\n",
            "훈련 샘플 개수: 25000, 테스트 개수: 25000\n"
          ]
        }
      ]
    },
    {
      "cell_type": "code",
      "source": [
        "print(x_train[0])  # 1번째 리뷰데이터\n",
        "print('라벨: ', y_train[0])  # 1번째 리뷰데이터의 라벨\n",
        "print('1번째 리뷰 문장 길이: ', len(x_train[0]))\n",
        "print('2번째 리뷰 문장 길이: ', len(x_train[1]))"
      ],
      "metadata": {
        "colab": {
          "base_uri": "https://localhost:8080/"
        },
        "id": "I-pb-PWA9C2v",
        "outputId": "05fa6a89-f3d5-4bd5-c128-adce24bb5ae7"
      },
      "execution_count": 27,
      "outputs": [
        {
          "output_type": "stream",
          "name": "stdout",
          "text": [
            "[1, 14, 22, 16, 43, 530, 973, 1622, 1385, 65, 458, 4468, 66, 3941, 4, 173, 36, 256, 5, 25, 100, 43, 838, 112, 50, 670, 2, 9, 35, 480, 284, 5, 150, 4, 172, 112, 167, 2, 336, 385, 39, 4, 172, 4536, 1111, 17, 546, 38, 13, 447, 4, 192, 50, 16, 6, 147, 2025, 19, 14, 22, 4, 1920, 4613, 469, 4, 22, 71, 87, 12, 16, 43, 530, 38, 76, 15, 13, 1247, 4, 22, 17, 515, 17, 12, 16, 626, 18, 2, 5, 62, 386, 12, 8, 316, 8, 106, 5, 4, 2223, 5244, 16, 480, 66, 3785, 33, 4, 130, 12, 16, 38, 619, 5, 25, 124, 51, 36, 135, 48, 25, 1415, 33, 6, 22, 12, 215, 28, 77, 52, 5, 14, 407, 16, 82, 2, 8, 4, 107, 117, 5952, 15, 256, 4, 2, 7, 3766, 5, 723, 36, 71, 43, 530, 476, 26, 400, 317, 46, 7, 4, 2, 1029, 13, 104, 88, 4, 381, 15, 297, 98, 32, 2071, 56, 26, 141, 6, 194, 7486, 18, 4, 226, 22, 21, 134, 476, 26, 480, 5, 144, 30, 5535, 18, 51, 36, 28, 224, 92, 25, 104, 4, 226, 65, 16, 38, 1334, 88, 12, 16, 283, 5, 16, 4472, 113, 103, 32, 15, 16, 5345, 19, 178, 32]\n",
            "라벨:  1\n",
            "1번째 리뷰 문장 길이:  218\n",
            "2번째 리뷰 문장 길이:  189\n"
          ]
        }
      ]
    },
    {
      "cell_type": "code",
      "source": [
        "word_to_index = imdb.get_word_index()\n",
        "index_to_word = {index:word for word, index in word_to_index.items()}\n",
        "print(index_to_word[1])     # 'the' 가 출력됩니다. \n",
        "print(word_to_index['the'])  # 1 이 출력됩니다."
      ],
      "metadata": {
        "colab": {
          "base_uri": "https://localhost:8080/"
        },
        "id": "XSoZSSVO9EvQ",
        "outputId": "372f7aef-ef8c-42e6-b844-176c5773fd51"
      },
      "execution_count": 28,
      "outputs": [
        {
          "output_type": "stream",
          "name": "stdout",
          "text": [
            "Downloading data from https://storage.googleapis.com/tensorflow/tf-keras-datasets/imdb_word_index.json\n",
            "1641221/1641221 [==============================] - 0s 0us/step\n",
            "the\n",
            "1\n"
          ]
        }
      ]
    },
    {
      "cell_type": "code",
      "source": [
        "# 보정 전 x_train[0] 데이터\n",
        "print(get_decoded_sentence(x_train[0], index_to_word))"
      ],
      "metadata": {
        "colab": {
          "base_uri": "https://localhost:8080/"
        },
        "id": "u6xVuQc79MRe",
        "outputId": "bfe1eb0d-c232-46ec-fbaf-90d2689158e8"
      },
      "execution_count": 29,
      "outputs": [
        {
          "output_type": "stream",
          "name": "stdout",
          "text": [
            "as you with out themselves powerful lets loves their becomes reaching had journalist of lot from anyone to have after out atmosphere never more room and it so heart shows to years of every never going and help moments or of every chest visual movie except her was several of enough more with is now current film as you of mine potentially unfortunately of you than him that with out themselves her get for was camp of you movie sometimes movie that with scary but and to story wonderful that in seeing in character to of 70s musicians with heart had shadows they of here that with her serious to have does when from why what have critics they is you that isn't one will very to as itself with other and in of seen over landed for anyone of and br show's to whether from than out themselves history he name half some br of and odd was two most of mean for 1 any an boat she he should is thought frog but of script you not while history he heart to real at barrel but when from one bit then have two of script their with her nobody most that with wasn't to with armed acting watch an for with heartfelt film want an\n"
          ]
        }
      ]
    },
    {
      "cell_type": "code",
      "source": [
        "#실제 인코딩 인덱스는 제공된 word_to_index에서 index 기준으로 3씩 뒤로 밀려 있습니다.  \n",
        "word_to_index = {k:(v+3) for k,v in word_to_index.items()}\n",
        "\n",
        "# 처음 몇 개 인덱스는 사전에 정의되어 있습니다.\n",
        "word_to_index[\"<PAD>\"] = 0\n",
        "word_to_index[\"<BOS>\"] = 1\n",
        "word_to_index[\"<UNK>\"] = 2  # unknown\n",
        "word_to_index[\"<UNUSED>\"] = 3\n",
        "\n",
        "index_to_word = {index:word for word, index in word_to_index.items()}\n",
        "\n",
        "print(index_to_word[1])     # '<BOS>' 가 출력됩니다. \n",
        "print(word_to_index['the'])  # 4 이 출력됩니다. \n",
        "print(index_to_word[4])     # 'the' 가 출력됩니다.\n",
        "\n",
        "# 보정 후 x_train[0] 데이터\n",
        "print(get_decoded_sentence(x_train[0], index_to_word))"
      ],
      "metadata": {
        "colab": {
          "base_uri": "https://localhost:8080/"
        },
        "id": "eW1ZtWZP9SVZ",
        "outputId": "863ba3c0-65f8-4306-b598-32c05811460d"
      },
      "execution_count": 30,
      "outputs": [
        {
          "output_type": "stream",
          "name": "stdout",
          "text": [
            "<BOS>\n",
            "4\n",
            "the\n",
            "this film was just brilliant casting location scenery story direction everyone's really suited the part they played and you could just imagine being there robert <UNK> is an amazing actor and now the same being director <UNK> father came from the same scottish island as myself so i loved the fact there was a real connection with this film the witty remarks throughout the film were great it was just brilliant so much that i bought the film as soon as it was released for <UNK> and would recommend it to everyone to watch and the fly fishing was amazing really cried at the end it was so sad and you know what they say if you cry at a film it must have been good and this definitely was also <UNK> to the two little boy's that played the <UNK> of norman and paul they were just brilliant children are often left out of the <UNK> list i think because the stars that play them all grown up are such a big profile for the whole film but these children are amazing and should be praised for what they have done don't you think the whole story was so lovely because it was true and was someone's life after all that was shared with us all\n"
          ]
        }
      ]
    },
    {
      "cell_type": "code",
      "source": [
        "print(get_decoded_sentence(x_train[0], index_to_word))\n",
        "print('라벨: ', y_train[0])  # 1번째 리뷰데이터의 라벨"
      ],
      "metadata": {
        "colab": {
          "base_uri": "https://localhost:8080/"
        },
        "id": "iRSiyxN69XNw",
        "outputId": "cb86a1b6-d932-455f-8183-e43cf4cb983b"
      },
      "execution_count": 32,
      "outputs": [
        {
          "output_type": "stream",
          "name": "stdout",
          "text": [
            "this film was just brilliant casting location scenery story direction everyone's really suited the part they played and you could just imagine being there robert <UNK> is an amazing actor and now the same being director <UNK> father came from the same scottish island as myself so i loved the fact there was a real connection with this film the witty remarks throughout the film were great it was just brilliant so much that i bought the film as soon as it was released for <UNK> and would recommend it to everyone to watch and the fly fishing was amazing really cried at the end it was so sad and you know what they say if you cry at a film it must have been good and this definitely was also <UNK> to the two little boy's that played the <UNK> of norman and paul they were just brilliant children are often left out of the <UNK> list i think because the stars that play them all grown up are such a big profile for the whole film but these children are amazing and should be praised for what they have done don't you think the whole story was so lovely because it was true and was someone's life after all that was shared with us all\n",
            "라벨:  1\n"
          ]
        }
      ]
    },
    {
      "cell_type": "code",
      "source": [
        "total_data_text = list(x_train) + list(x_test)\n",
        "# 텍스트데이터 문장길이의 리스트를 생성한 후\n",
        "num_tokens = [len(tokens) for tokens in total_data_text]\n",
        "num_tokens = np.array(num_tokens)\n",
        "# 문장길이의 평균값, 최대값, 표준편차를 계산해 본다. \n",
        "print('문장길이 평균 : ', np.mean(num_tokens))\n",
        "print('문장길이 최대 : ', np.max(num_tokens))\n",
        "print('문장길이 표준편차 : ', np.std(num_tokens))\n",
        "\n",
        "# 예를들어, 최대 길이를 (평균 + 2*표준편차)로 한다면,  \n",
        "max_tokens = np.mean(num_tokens) + 2 * np.std(num_tokens)\n",
        "maxlen = int(max_tokens)\n",
        "print('pad_sequences maxlen : ', maxlen)\n",
        "print(f'전체 문장의 {np.sum(num_tokens < max_tokens) / len(num_tokens)}%가 maxlen 설정값 이내에 포함됩니다. ')"
      ],
      "metadata": {
        "colab": {
          "base_uri": "https://localhost:8080/"
        },
        "id": "hiLBASwY-ECp",
        "outputId": "8e97d357-6932-431e-ca0f-a43369228c45"
      },
      "execution_count": 33,
      "outputs": [
        {
          "output_type": "stream",
          "name": "stdout",
          "text": [
            "문장길이 평균 :  234.75892\n",
            "문장길이 최대 :  2494\n",
            "문장길이 표준편차 :  172.91149458735703\n",
            "pad_sequences maxlen :  580\n",
            "전체 문장의 0.94536%가 maxlen 설정값 이내에 포함됩니다. \n"
          ]
        }
      ]
    },
    {
      "cell_type": "code",
      "source": [
        "'''\n",
        "또 한 가지 유의해야 하는 것은 padding 방식을 문장 뒤쪽('post')과 앞쪽('pre') 중 어느 쪽으로 하느냐에 따라 RNN을 이용한 딥러닝 적용 시 성능 차이가 발생한다는 점입니다.\n",
        "'''\n",
        "x_train = tf.keras.preprocessing.sequence.pad_sequences(x_train,\n",
        "                                                        value=word_to_index[\"<PAD>\"],\n",
        "                                                        padding='post', # 혹은 'pre'\n",
        "                                                        maxlen=maxlen)\n",
        "\n",
        "x_test = tf.keras.preprocessing.sequence.pad_sequences(x_test,\n",
        "                                                       value=word_to_index[\"<PAD>\"],\n",
        "                                                       padding='post', # 혹은 'pre'\n",
        "                                                       maxlen=maxlen)\n",
        "\n",
        "print(x_train.shape)"
      ],
      "metadata": {
        "colab": {
          "base_uri": "https://localhost:8080/"
        },
        "id": "kjVOX2hX-H5A",
        "outputId": "854fdbe7-7266-4def-acbe-71586a2f423a"
      },
      "execution_count": 34,
      "outputs": [
        {
          "output_type": "stream",
          "name": "stdout",
          "text": [
            "(25000, 580)\n"
          ]
        }
      ]
    },
    {
      "cell_type": "markdown",
      "source": [
        "### Model training"
      ],
      "metadata": {
        "id": "bVXvOUQz-97X"
      }
    },
    {
      "cell_type": "code",
      "source": [
        "'''\n",
        "Post 와 Pre중?\n",
        "RNN은 입력데이터가 순차적으로 처리되어, 가장 마지막 입력이 최종 state 값에 가장 영향을 많이 미치게 됩니다. 그러므로 마지막 입력이 무의미한 padding으로 채워지는 것은 비효율적입니다. \n",
        "따라서 'pre'가 훨씬 유리하며, 10% 이상의 테스트 성능 차이를 보이게 됩니다.\n",
        "Q) 그럼 언제 Post 처리방식이 좋을까?\n",
        "'''\n",
        "vocab_size = 10000    # 어휘 사전의 크기입니다(10,000개의 단어)\n",
        "word_vector_dim = 16  # 워드 벡터의 차원 수 (변경 가능한 하이퍼파라미터)\n",
        "\n",
        "# model 설계 - 딥러닝 모델 코드를 직접 작성해 주세요.\n",
        "model = tf.keras.Sequential()\n",
        "model.add(tf.keras.layers.Embedding(vocab_size, word_vector_dim, input_shape=(None,)))\n",
        "model.add(tf.keras.layers.LSTM(8))   # 가장 널리 쓰이는 RNN인 LSTM 레이어를 사용하였습니다. 이때 LSTM state 벡터의 차원수는 8로 하였습니다. (변경 가능)\n",
        "model.add(tf.keras.layers.Dense(8, activation='relu'))\n",
        "model.add(tf.keras.layers.Dense(1, activation='sigmoid'))  # 최종 출력은 긍정/부정을 나타내는 1dim 입니다.\n",
        "\n",
        "model.summary()"
      ],
      "metadata": {
        "colab": {
          "base_uri": "https://localhost:8080/"
        },
        "id": "EW9lFOET-Z_X",
        "outputId": "cb1b5fc1-064c-4e1f-ee5b-9d12626663a9"
      },
      "execution_count": 35,
      "outputs": [
        {
          "output_type": "stream",
          "name": "stdout",
          "text": [
            "Model: \"sequential_3\"\n",
            "_________________________________________________________________\n",
            " Layer (type)                Output Shape              Param #   \n",
            "=================================================================\n",
            " embedding_6 (Embedding)     (None, None, 16)          160000    \n",
            "                                                                 \n",
            " lstm_1 (LSTM)               (None, 8)                 800       \n",
            "                                                                 \n",
            " dense_6 (Dense)             (None, 8)                 72        \n",
            "                                                                 \n",
            " dense_7 (Dense)             (None, 1)                 9         \n",
            "                                                                 \n",
            "=================================================================\n",
            "Total params: 160,881\n",
            "Trainable params: 160,881\n",
            "Non-trainable params: 0\n",
            "_________________________________________________________________\n"
          ]
        }
      ]
    },
    {
      "cell_type": "code",
      "source": [
        "# validation set 10000건 분리\n",
        "x_val = x_train[:10000]   \n",
        "y_val = y_train[:10000]\n",
        "\n",
        "# validation set을 제외한 나머지 15000건\n",
        "partial_x_train = x_train[10000:]  \n",
        "partial_y_train = y_train[10000:]\n",
        "\n",
        "print(partial_x_train.shape)\n",
        "print(partial_y_train.shape)"
      ],
      "metadata": {
        "colab": {
          "base_uri": "https://localhost:8080/"
        },
        "id": "4HCcaTWo_CBN",
        "outputId": "f1b57f44-563d-4a9e-f48b-b6f6b228e1b8"
      },
      "execution_count": 36,
      "outputs": [
        {
          "output_type": "stream",
          "name": "stdout",
          "text": [
            "(15000, 580)\n",
            "(15000,)\n"
          ]
        }
      ]
    },
    {
      "cell_type": "code",
      "source": [
        "model.compile(optimizer='adam',\n",
        "              loss='binary_crossentropy',\n",
        "              metrics=['accuracy'])\n",
        "              \n",
        "epochs=20  # 몇 epoch를 훈련하면 좋을지 결과를 보면서 바꾸어 봅시다. \n",
        "\n",
        "history = model.fit(partial_x_train,\n",
        "                    partial_y_train,\n",
        "                    epochs=epochs,\n",
        "                    batch_size=512,\n",
        "                    validation_data=(x_val, y_val),\n",
        "                    verbose=1)"
      ],
      "metadata": {
        "colab": {
          "base_uri": "https://localhost:8080/"
        },
        "id": "21PUp_Ef_DQ0",
        "outputId": "1e2a5965-29e6-40cd-da79-03734a609d4e"
      },
      "execution_count": 37,
      "outputs": [
        {
          "output_type": "stream",
          "name": "stdout",
          "text": [
            "Epoch 1/20\n",
            "30/30 [==============================] - 22s 631ms/step - loss: 0.6931 - accuracy: 0.5031 - val_loss: 0.6932 - val_accuracy: 0.4997\n",
            "Epoch 2/20\n",
            "30/30 [==============================] - 15s 518ms/step - loss: 0.6930 - accuracy: 0.5175 - val_loss: 0.6932 - val_accuracy: 0.5025\n",
            "Epoch 3/20\n",
            "30/30 [==============================] - 15s 515ms/step - loss: 0.6928 - accuracy: 0.5196 - val_loss: 0.6931 - val_accuracy: 0.5030\n",
            "Epoch 4/20\n",
            "30/30 [==============================] - 16s 531ms/step - loss: 0.6925 - accuracy: 0.5209 - val_loss: 0.6930 - val_accuracy: 0.5037\n",
            "Epoch 5/20\n",
            "30/30 [==============================] - 18s 612ms/step - loss: 0.6919 - accuracy: 0.5232 - val_loss: 0.6927 - val_accuracy: 0.5049\n",
            "Epoch 6/20\n",
            "30/30 [==============================] - 27s 875ms/step - loss: 0.6903 - accuracy: 0.5261 - val_loss: 0.6904 - val_accuracy: 0.5125\n",
            "Epoch 7/20\n",
            "30/30 [==============================] - 15s 520ms/step - loss: 0.6659 - accuracy: 0.6097 - val_loss: 0.6673 - val_accuracy: 0.6479\n",
            "Epoch 8/20\n",
            "30/30 [==============================] - 19s 651ms/step - loss: 0.6520 - accuracy: 0.6488 - val_loss: 0.6489 - val_accuracy: 0.6445\n",
            "Epoch 9/20\n",
            "30/30 [==============================] - 18s 581ms/step - loss: 0.6471 - accuracy: 0.6427 - val_loss: 0.6510 - val_accuracy: 0.6342\n",
            "Epoch 10/20\n",
            "30/30 [==============================] - 15s 518ms/step - loss: 0.6461 - accuracy: 0.6335 - val_loss: 0.6506 - val_accuracy: 0.6310\n",
            "Epoch 11/20\n",
            "30/30 [==============================] - 18s 606ms/step - loss: 0.6438 - accuracy: 0.6339 - val_loss: 0.6473 - val_accuracy: 0.6359\n",
            "Epoch 12/20\n",
            "30/30 [==============================] - 19s 629ms/step - loss: 0.6395 - accuracy: 0.6406 - val_loss: 0.6439 - val_accuracy: 0.6419\n",
            "Epoch 13/20\n",
            "30/30 [==============================] - 16s 546ms/step - loss: 0.6339 - accuracy: 0.6522 - val_loss: 0.6376 - val_accuracy: 0.6528\n",
            "Epoch 14/20\n",
            "30/30 [==============================] - 16s 522ms/step - loss: 0.6164 - accuracy: 0.6802 - val_loss: 0.6345 - val_accuracy: 0.6906\n",
            "Epoch 15/20\n",
            "30/30 [==============================] - 18s 607ms/step - loss: 0.6050 - accuracy: 0.7085 - val_loss: 0.6063 - val_accuracy: 0.7044\n",
            "Epoch 16/20\n",
            "30/30 [==============================] - 16s 522ms/step - loss: 0.5882 - accuracy: 0.7229 - val_loss: 0.5929 - val_accuracy: 0.7180\n",
            "Epoch 17/20\n",
            "30/30 [==============================] - 15s 517ms/step - loss: 0.5788 - accuracy: 0.7291 - val_loss: 0.5833 - val_accuracy: 0.7265\n",
            "Epoch 18/20\n",
            "30/30 [==============================] - 16s 536ms/step - loss: 0.5692 - accuracy: 0.7448 - val_loss: 0.5737 - val_accuracy: 0.7391\n",
            "Epoch 19/20\n",
            "30/30 [==============================] - 18s 600ms/step - loss: 0.6629 - accuracy: 0.6387 - val_loss: 0.7123 - val_accuracy: 0.5116\n",
            "Epoch 20/20\n",
            "30/30 [==============================] - 15s 517ms/step - loss: 0.6882 - accuracy: 0.5229 - val_loss: 0.6914 - val_accuracy: 0.5018\n"
          ]
        }
      ]
    },
    {
      "cell_type": "code",
      "source": [
        "results = model.evaluate(x_test,  y_test, verbose=2)\n",
        "\n",
        "print(results)"
      ],
      "metadata": {
        "colab": {
          "base_uri": "https://localhost:8080/"
        },
        "id": "p2cv_9TN_Hh_",
        "outputId": "b4dabe95-c9c7-407e-9403-4404726ad03a"
      },
      "execution_count": 38,
      "outputs": [
        {
          "output_type": "stream",
          "name": "stdout",
          "text": [
            "782/782 - 32s - loss: 0.6912 - accuracy: 0.5058 - 32s/epoch - 41ms/step\n",
            "[0.6911669373512268, 0.505840003490448]\n"
          ]
        }
      ]
    },
    {
      "cell_type": "code",
      "source": [
        "history_dict = history.history\n",
        "print(history_dict.keys()) # epoch에 따른 그래프를 그려볼 수 있는 항목들"
      ],
      "metadata": {
        "colab": {
          "base_uri": "https://localhost:8080/"
        },
        "id": "SciP8tAD_Iu_",
        "outputId": "7630d47e-1934-430c-b4f4-3b351583d971"
      },
      "execution_count": 39,
      "outputs": [
        {
          "output_type": "stream",
          "name": "stdout",
          "text": [
            "dict_keys(['loss', 'accuracy', 'val_loss', 'val_accuracy'])\n"
          ]
        }
      ]
    },
    {
      "cell_type": "code",
      "source": [
        "import matplotlib.pyplot as plt\n",
        "\n",
        "acc = history_dict['accuracy']\n",
        "val_acc = history_dict['val_accuracy']\n",
        "loss = history_dict['loss']\n",
        "val_loss = history_dict['val_loss']\n",
        "\n",
        "epochs = range(1, len(acc) + 1)\n",
        "\n",
        "# \"bo\"는 \"파란색 점\"입니다\n",
        "plt.plot(epochs, loss, 'bo', label='Training loss')\n",
        "# b는 \"파란 실선\"입니다\n",
        "plt.plot(epochs, val_loss, 'b', label='Validation loss')\n",
        "plt.title('Training and validation loss')\n",
        "plt.xlabel('Epochs')\n",
        "plt.ylabel('Loss')\n",
        "plt.legend()\n",
        "\n",
        "plt.show()"
      ],
      "metadata": {
        "colab": {
          "base_uri": "https://localhost:8080/",
          "height": 472
        },
        "id": "nPv7NmCR_dTL",
        "outputId": "341cdd0c-2374-42d7-cf1a-054d518b9d37"
      },
      "execution_count": 40,
      "outputs": [
        {
          "output_type": "display_data",
          "data": {
            "text/plain": [
              "<Figure size 640x480 with 1 Axes>"
            ],
            "image/png": "[encoded data removed]"
          },
          "metadata": {}
        }
      ]
    },
    {
      "cell_type": "code",
      "source": [
        "plt.clf()   # 그림을 초기화합니다\n",
        "\n",
        "plt.plot(epochs, acc, 'bo', label='Training acc')\n",
        "plt.plot(epochs, val_acc, 'b', label='Validation acc')\n",
        "plt.title('Training and validation accuracy')\n",
        "plt.xlabel('Epochs')\n",
        "plt.ylabel('Accuracy')\n",
        "plt.legend()\n",
        "\n",
        "plt.show()"
      ],
      "metadata": {
        "colab": {
          "base_uri": "https://localhost:8080/",
          "height": 472
        },
        "id": "C5xRAKgM_fCa",
        "outputId": "d5b873c1-42da-4c94-abb2-721b6de7b016"
      },
      "execution_count": 41,
      "outputs": [
        {
          "output_type": "display_data",
          "data": {
            "text/plain": [
              "<Figure size 640x480 with 1 Axes>"
            ],
            "image/png": "[encoded data removed]"
          },
          "metadata": {}
        }
      ]
    },
    {
      "cell_type": "markdown",
      "source": [
        "### Word 2 vec\n",
        "https://www.youtube.com/watch?v=sY4YyacSsLc&t=126s"
      ],
      "metadata": {
        "id": "tDSemWaK_rUm"
      }
    }
  ]
}